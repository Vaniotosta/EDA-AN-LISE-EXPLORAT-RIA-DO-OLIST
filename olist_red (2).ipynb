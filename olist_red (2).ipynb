{
 "cells": [
  {
   "cell_type": "markdown",
   "id": "8bdd0e6c",
   "metadata": {},
   "source": [
    "# **PROJETO DE ANÁLISES DE DADOS E-COMMERCE- OLIST**"
   ]
  },
  {
   "cell_type": "markdown",
   "id": "4445543f",
   "metadata": {},
   "source": [
    "![](https://blog.caju.com.br/wp-content/uploads/2022/08/case-olist.webp)"
   ]
  },
  {
   "cell_type": "markdown",
   "id": "047158b2",
   "metadata": {},
   "source": [
    "![](![image.png](attachment:image.png))"
   ]
  },
  {
   "cell_type": "markdown",
   "id": "928ed9b0",
   "metadata": {},
   "source": [
    "## INTRODUÇÃO\n",
    "\n",
    "Vamos analisar o conjunto de comércio eletrônico brasileiro de pedidos feitos na loja Olist.\n",
    "\n",
    "Olist é uma plataforma de comércio eletrônico brasileira que conecta pequenas empresas a canais de vendas online, permitindo que vendam seus produtos em vários marketplaces do Brasil. A empresa também oferece serviços de logística e gerenciamento de pedidos para seus clientes.\n",
    "\n",
    "O conjunto de dados possui informações de 100 mil pedidos de 2016 a 2018 realizados em vários marketplaces no Brasil. Suas características permitem visualizar um pedido em múltiplas dimensões: desde o status do pedido, preço, desempenho de pagamento e frete até a localização do cliente, atributos do produto e, finalmente, avaliações escritas pelos clientes. Também lançamos um conjunto de dados de geolocalização que relaciona os códigos postais brasileiros às coordenadas (latitude/longitude).\n",
    "\n",
    "Estes são dados comerciais reais, foram anonimizados e as referências às empresas e parceiros no texto da revisão foram substituídas pelos nomes das grandes casas de Game of Thrones.\n",
    "\n",
    "<p>A <strong>análise exploratória de dados</strong> é uma das principais técnicas utilizadas em <strong>Data Science</strong>, pois nos permite compreender melhor os dados e encontrar <em>insights</em> valiosos que podem ser usados em decisões de negócios. Neste notebook, vamos explorar a base de dados da Olist e responder algumas perguntas importantes sobre o comportamento dos consumidores no mercado de e-commerce.</p>\n",
    "\n",
    "<p>Para isso, usaremos a linguagem <strong>Python</strong> e as bibliotecas <strong>Pandas</strong>, <strong>Numpy</strong> e <strong>Matplotlib</strong> para manipulação e visualização de dados. Além disso, utilizaremos a biblioteca <strong>Plotly</strong> para criar gráficos interativos e mais complexos, permitindo uma análise mais detalhada dos dados.</p>\n",
    "\n",
    "\n"
   ]
  },
  {
   "cell_type": "markdown",
   "id": "71a43662",
   "metadata": {},
   "source": [
    "<h2 style=\"color: #6c5b7b\"> Perguntas a serem respondidas</h2>\n",
    "\n",
    "- Quais valores médio  e máximo dos fretes?\n",
    "- Como se comportam as notas de avaliações dos consumidores?\n",
    "- Quais cliente geram maiores receitas e que mais gastam?\n",
    "- Quais os top 10 Estados com maiores números de pedidos?\n",
    "- Quais as cidades com maiores receitas?\n",
    "- Como os pedidos variam com otempo?\n",
    "- Quais maiores números de pedidos por semana?\n",
    "- Quais produtos com melhores e piores avaliações?\n",
    "- Será que o método de pagamentos afetam os status do  pedido?\n",
    "- Existem relação entre o tempo de entrega e as avaliações?\n",
    "- Quais pedidos mais rápidos e mais demorados em prazo de entrega?\n",
    "- Quais as cidaddes dos vendedores com maiores e menores tempo de entrega?\n",
    "- Quais vendedores com melhores e piores prazo de entrega?"
   ]
  },
  {
   "cell_type": "markdown",
   "id": "aeaa863a",
   "metadata": {
    "id": "aeaa863a"
   },
   "source": [
    "<h2 style=\"color: #6c5b7b\">Importar bibliotecas</h2>\n",
    "\n",
    "Este trecho de código importa algumas das principais bibliotecas utilizadas em análise de dados com Python, incluindo as bibliotecas para visualização de dados `matplotlib.pyplot`, `plotly.graph_objects` e `plotly.express`. \n",
    "                \n",
    "- `pandas` é uma biblioteca para manipulação e análise de dados, incluindo estruturas de dados e ferramentas para leitura e escrita de arquivos.\n",
    "- `numpy` é uma biblioteca para computação numérica com Python, que inclui funções para manipulação de arrays e matrizes multidimensionais.\n",
    "- `matplotlib.pyplot` é uma biblioteca para visualização de dados em Python, que inclui funções para criação de gráficos e visualizações.\n",
    "- `plotly.graph_objects` é uma biblioteca para criação de gráficos interativos e complexos, que permite a personalização completa dos gráficos.\n",
    "- `plotly.express` é uma biblioteca de visualização de dados de alto nível baseada no `plotly.graph_objects`, que oferece uma interface fácil de usar para a criação de gráficos estatísticos atraentes e informativos.\n",
    "- `datetime` é um módulo que fornece classes para trabalhar com datas e horários em Python.\n",
    "- `warnings` é um módulo que permite emitir avisos durante a execução do código.\n",
    "\n",
    "O último comando `warnings.filterwarnings(\"ignore\")` é usado para ignorar os avisos que podem aparecer durante a execução do código. Serve somente pra \"limpar\" nossas saídas de muitos avisos. "
   ]
  },
  {
   "cell_type": "code",
   "execution_count": 1,
   "id": "a69ed592",
   "metadata": {
    "execution": {
     "iopub.execute_input": "2022-07-20T18:10:21.968043Z",
     "iopub.status.busy": "2022-07-20T18:10:21.967623Z",
     "iopub.status.idle": "2022-07-20T18:10:23.637416Z",
     "shell.execute_reply": "2022-07-20T18:10:23.636236Z"
    },
    "id": "a69ed592",
    "papermill": {
     "duration": 1.695804,
     "end_time": "2022-07-20T18:10:23.640278",
     "exception": false,
     "start_time": "2022-07-20T18:10:21.944474",
     "status": "completed"
    },
    "tags": []
   },
   "outputs": [],
   "source": [
    "# Importação das bibliotecas\n",
    "\n",
    "import pandas as pd\n",
    "import numpy as np\n",
    "import matplotlib.pyplot as plt \n",
    "# Mais elaborados\n",
    "import plotly.graph_objects as go\n",
    "# Mais fácil, de pronto tem gráficos bonitos\n",
    "import plotly.express as px\n",
    "import datetime\n",
    "import warnings\n",
    "warnings.filterwarnings(\"ignore\")"
   ]
  },
  {
   "cell_type": "code",
   "execution_count": 2,
   "id": "b3fe6c85",
   "metadata": {},
   "outputs": [
    {
     "data": {
      "text/plain": [
       "Renderers configuration\n",
       "-----------------------\n",
       "    Default renderer: 'plotly_mimetype+notebook'\n",
       "    Available renderers:\n",
       "        ['plotly_mimetype', 'jupyterlab', 'nteract', 'vscode',\n",
       "         'notebook', 'notebook_connected', 'kaggle', 'azure', 'colab',\n",
       "         'cocalc', 'databricks', 'json', 'png', 'jpeg', 'jpg', 'svg',\n",
       "         'pdf', 'browser', 'firefox', 'chrome', 'chromium', 'iframe',\n",
       "         'iframe_connected', 'sphinx_gallery', 'sphinx_gallery_png']"
      ]
     },
     "execution_count": 2,
     "metadata": {},
     "output_type": "execute_result"
    }
   ],
   "source": [
    "import plotly.io as pio\n",
    "pio.renderers"
   ]
  },
  {
   "cell_type": "code",
   "execution_count": 3,
   "id": "12f59746",
   "metadata": {},
   "outputs": [],
   "source": [
    " pio.renderers.default = \"png\" # visualizar e salvar em foto para git\n",
    " # pio.renderers.default = \"notebook\" # visualizar em outra IDE\n",
    "#pio.renderers.default = \"colab\" # visualizar em outra IDE"
   ]
  },
  {
   "cell_type": "code",
   "execution_count": 4,
   "id": "6486a58e",
   "metadata": {},
   "outputs": [
    {
     "name": "stdout",
     "output_type": "stream",
     "text": [
      "Collecting kaleido\n",
      "  Downloading kaleido-0.2.1-py2.py3-none-win_amd64.whl (65.9 MB)\n",
      "     --------------------------------------- 65.9/65.9 MB 14.2 MB/s eta 0:00:00\n",
      "Installing collected packages: kaleido\n",
      "Successfully installed kaleido-0.2.1\n",
      "Note: you may need to restart the kernel to use updated packages.\n"
     ]
    }
   ],
   "source": [
    " pip install -U kaleido"
   ]
  },
  {
   "cell_type": "markdown",
   "id": "fb3feb95",
   "metadata": {
    "id": "fb3feb95"
   },
   "source": [
    "<h2 style=\"color: #6c5b7b\">Importar os dados</h2>\n",
    "\n",
    "Vamos utilizar a base de dados da Olist que está disponível no Kaggle. Kaggle é uma plataforma de ciência de dados com competições, cursos e conjuntos de dados para profissionais, pesquisadores e estudantes nas diferentes áreas de dados. Para baixar os dados basta se inscrever e baixar [aqui](https://www.kaggle.com/datasets/olistbr/brazilian-ecommerce)\n",
    "\n",
    "Este trecho de código carrega os dados em formato CSV de diferentes arquivos localizados no diretório `./data/raw/`, usando a biblioteca `pandas` para criar um `DataFrame` para cada arquivo. \n",
    "\n",
    "A subpasta `raw` é usada para armazenar os dados brutos, sem nenhum processamento ou limpeza. É útil para manter uma cópia dos dados originais em seu estado bruto, caso seja necessário voltar aos dados originais ou para rastrear o histórico das modificações feitas nos dados.\n",
    "\n",
    "Além da pasta `raw` temos a `processed` que é usada para armazenar os dados após passarem por processos de limpeza, transformação e manipulação para fins de análise de dados. \n",
    "\n",
    "- `pd.read_csv()` é uma função da biblioteca `pandas` que lê um arquivo CSV e retorna um `DataFrame`.\n",
    "- `customers_df`, `geo_df`, `orderitem_df`, `orderpay_df`, `orderreviews_df`, `orders_df`, `products_df`, `sellers_df` e `categname_df` são os nomes dos `DataFrames` criados para cada arquivo CSV.\n",
    "- `pd.set_option('display.max_columns', 500)` é um comando usado para definir o número máximo de colunas que podem ser exibidas na saída dos `DataFrames`.\n",
    "\n",
    "É importante entender melhor as fontes de dados, normalmente os dados são acompanhados de `metadados`, que descrevem o conteúdo das bases. "
   ]
  },
  {
   "cell_type": "code",
   "execution_count": 5,
   "id": "22242335",
   "metadata": {},
   "outputs": [
    {
     "data": {
      "text/html": [
       "<div>\n",
       "<style scoped>\n",
       "    .dataframe tbody tr th:only-of-type {\n",
       "        vertical-align: middle;\n",
       "    }\n",
       "\n",
       "    .dataframe tbody tr th {\n",
       "        vertical-align: top;\n",
       "    }\n",
       "\n",
       "    .dataframe thead th {\n",
       "        text-align: right;\n",
       "    }\n",
       "</style>\n",
       "<table border=\"1\" class=\"dataframe\">\n",
       "  <thead>\n",
       "    <tr style=\"text-align: right;\">\n",
       "      <th></th>\n",
       "      <th>customer_id</th>\n",
       "      <th>customer_unique_id</th>\n",
       "      <th>customer_zip_code_prefix</th>\n",
       "      <th>customer_city</th>\n",
       "      <th>customer_state</th>\n",
       "    </tr>\n",
       "  </thead>\n",
       "  <tbody>\n",
       "    <tr>\n",
       "      <th>0</th>\n",
       "      <td>06b8999e2fba1a1fbc88172c00ba8bc7</td>\n",
       "      <td>861eff4711a542e4b93843c6dd7febb0</td>\n",
       "      <td>14409</td>\n",
       "      <td>franca</td>\n",
       "      <td>SP</td>\n",
       "    </tr>\n",
       "    <tr>\n",
       "      <th>1</th>\n",
       "      <td>18955e83d337fd6b2def6b18a428ac77</td>\n",
       "      <td>290c77bc529b7ac935b93aa66c333dc3</td>\n",
       "      <td>9790</td>\n",
       "      <td>sao bernardo do campo</td>\n",
       "      <td>SP</td>\n",
       "    </tr>\n",
       "    <tr>\n",
       "      <th>2</th>\n",
       "      <td>4e7b3e00288586ebd08712fdd0374a03</td>\n",
       "      <td>060e732b5b29e8181a18229c7b0b2b5e</td>\n",
       "      <td>1151</td>\n",
       "      <td>sao paulo</td>\n",
       "      <td>SP</td>\n",
       "    </tr>\n",
       "    <tr>\n",
       "      <th>3</th>\n",
       "      <td>b2b6027bc5c5109e529d4dc6358b12c3</td>\n",
       "      <td>259dac757896d24d7702b9acbbff3f3c</td>\n",
       "      <td>8775</td>\n",
       "      <td>mogi das cruzes</td>\n",
       "      <td>SP</td>\n",
       "    </tr>\n",
       "    <tr>\n",
       "      <th>4</th>\n",
       "      <td>4f2d8ab171c80ec8364f7c12e35b23ad</td>\n",
       "      <td>345ecd01c38d18a9036ed96c73b8d066</td>\n",
       "      <td>13056</td>\n",
       "      <td>campinas</td>\n",
       "      <td>SP</td>\n",
       "    </tr>\n",
       "    <tr>\n",
       "      <th>...</th>\n",
       "      <td>...</td>\n",
       "      <td>...</td>\n",
       "      <td>...</td>\n",
       "      <td>...</td>\n",
       "      <td>...</td>\n",
       "    </tr>\n",
       "    <tr>\n",
       "      <th>99436</th>\n",
       "      <td>17ddf5dd5d51696bb3d7c6291687be6f</td>\n",
       "      <td>1a29b476fee25c95fbafc67c5ac95cf8</td>\n",
       "      <td>3937</td>\n",
       "      <td>sao paulo</td>\n",
       "      <td>SP</td>\n",
       "    </tr>\n",
       "    <tr>\n",
       "      <th>99437</th>\n",
       "      <td>e7b71a9017aa05c9a7fd292d714858e8</td>\n",
       "      <td>d52a67c98be1cf6a5c84435bd38d095d</td>\n",
       "      <td>6764</td>\n",
       "      <td>taboao da serra</td>\n",
       "      <td>SP</td>\n",
       "    </tr>\n",
       "    <tr>\n",
       "      <th>99438</th>\n",
       "      <td>5e28dfe12db7fb50a4b2f691faecea5e</td>\n",
       "      <td>e9f50caf99f032f0bf3c55141f019d99</td>\n",
       "      <td>60115</td>\n",
       "      <td>fortaleza</td>\n",
       "      <td>CE</td>\n",
       "    </tr>\n",
       "    <tr>\n",
       "      <th>99439</th>\n",
       "      <td>56b18e2166679b8a959d72dd06da27f9</td>\n",
       "      <td>73c2643a0a458b49f58cea58833b192e</td>\n",
       "      <td>92120</td>\n",
       "      <td>canoas</td>\n",
       "      <td>RS</td>\n",
       "    </tr>\n",
       "    <tr>\n",
       "      <th>99440</th>\n",
       "      <td>274fa6071e5e17fe303b9748641082c8</td>\n",
       "      <td>84732c5050c01db9b23e19ba39899398</td>\n",
       "      <td>6703</td>\n",
       "      <td>cotia</td>\n",
       "      <td>SP</td>\n",
       "    </tr>\n",
       "  </tbody>\n",
       "</table>\n",
       "<p>99441 rows × 5 columns</p>\n",
       "</div>"
      ],
      "text/plain": [
       "                            customer_id                customer_unique_id  \\\n",
       "0      06b8999e2fba1a1fbc88172c00ba8bc7  861eff4711a542e4b93843c6dd7febb0   \n",
       "1      18955e83d337fd6b2def6b18a428ac77  290c77bc529b7ac935b93aa66c333dc3   \n",
       "2      4e7b3e00288586ebd08712fdd0374a03  060e732b5b29e8181a18229c7b0b2b5e   \n",
       "3      b2b6027bc5c5109e529d4dc6358b12c3  259dac757896d24d7702b9acbbff3f3c   \n",
       "4      4f2d8ab171c80ec8364f7c12e35b23ad  345ecd01c38d18a9036ed96c73b8d066   \n",
       "...                                 ...                               ...   \n",
       "99436  17ddf5dd5d51696bb3d7c6291687be6f  1a29b476fee25c95fbafc67c5ac95cf8   \n",
       "99437  e7b71a9017aa05c9a7fd292d714858e8  d52a67c98be1cf6a5c84435bd38d095d   \n",
       "99438  5e28dfe12db7fb50a4b2f691faecea5e  e9f50caf99f032f0bf3c55141f019d99   \n",
       "99439  56b18e2166679b8a959d72dd06da27f9  73c2643a0a458b49f58cea58833b192e   \n",
       "99440  274fa6071e5e17fe303b9748641082c8  84732c5050c01db9b23e19ba39899398   \n",
       "\n",
       "       customer_zip_code_prefix          customer_city customer_state  \n",
       "0                         14409                 franca             SP  \n",
       "1                          9790  sao bernardo do campo             SP  \n",
       "2                          1151              sao paulo             SP  \n",
       "3                          8775        mogi das cruzes             SP  \n",
       "4                         13056               campinas             SP  \n",
       "...                         ...                    ...            ...  \n",
       "99436                      3937              sao paulo             SP  \n",
       "99437                      6764        taboao da serra             SP  \n",
       "99438                     60115              fortaleza             CE  \n",
       "99439                     92120                 canoas             RS  \n",
       "99440                      6703                  cotia             SP  \n",
       "\n",
       "[99441 rows x 5 columns]"
      ]
     },
     "execution_count": 5,
     "metadata": {},
     "output_type": "execute_result"
    }
   ],
   "source": [
    "# lendo o primeiro dataset\n",
    "customers_df = pd.read_csv(r\"C:\\Users\\vanio\\OneDrive\\Área de Trabalho\\olist\\olist_customers_dataset.csv\")\n",
    "customers_df"
   ]
  },
  {
   "cell_type": "code",
   "execution_count": 6,
   "id": "7062d47b",
   "metadata": {
    "execution": {
     "iopub.execute_input": "2022-07-20T18:10:23.733000Z",
     "iopub.status.busy": "2022-07-20T18:10:23.732609Z",
     "iopub.status.idle": "2022-07-20T18:10:27.664040Z",
     "shell.execute_reply": "2022-07-20T18:10:27.662958Z"
    },
    "id": "7062d47b",
    "papermill": {
     "duration": 3.955834,
     "end_time": "2022-07-20T18:10:27.666816",
     "exception": false,
     "start_time": "2022-07-20T18:10:23.710982",
     "status": "completed"
    },
    "tags": []
   },
   "outputs": [],
   "source": [
    "# lendo os dataset em 500 Linhas\n",
    "customers_df = pd.read_csv(r\"C:\\Users\\vanio\\OneDrive\\Área de Trabalho\\olist\\olist_customers_dataset.csv\")\n",
    "geo_df = pd.read_csv(r\"C:\\Users\\vanio\\OneDrive\\Área de Trabalho\\olist\\olist_geolocation_dataset.csv\")\n",
    "orderitem_df = pd.read_csv(r\"C:\\Users\\vanio\\OneDrive\\Área de Trabalho\\olist\\olist_order_items_dataset.csv\")\n",
    "orderpay_df = pd.read_csv(r\"C:\\Users\\vanio\\OneDrive\\Área de Trabalho\\olist\\olist_order_payments_dataset.csv\")\n",
    "orderreviews_df = pd.read_csv(r\"C:\\Users\\vanio\\OneDrive\\Área de Trabalho\\olist\\olist_order_reviews_dataset.csv\")\n",
    "orders_df = pd.read_csv(r\"C:\\Users\\vanio\\OneDrive\\Área de Trabalho\\olist\\olist_orders_dataset.csv\")\n",
    "products_df = pd.read_csv(r\"C:\\Users\\vanio\\OneDrive\\Área de Trabalho\\olist\\olist_products_dataset.csv\")\n",
    "sellers_df = pd.read_csv(r\"C:\\Users\\vanio\\OneDrive\\Área de Trabalho\\olist\\olist_sellers_dataset.csv\")\n",
    "categname_df = pd.read_csv(r\"C:\\Users\\vanio\\OneDrive\\Área de Trabalho\\olist\\product_category_name_translation.csv\")\n",
    "pd.set_option('display.max_columns', 500)"
   ]
  },
  {
   "cell_type": "code",
   "execution_count": 7,
   "id": "d5ece2ed",
   "metadata": {
    "id": "d5ece2ed",
    "outputId": "368d1a17-3dc2-4d78-8358-a35887931564"
   },
   "outputs": [
    {
     "data": {
      "text/html": [
       "<div>\n",
       "<style scoped>\n",
       "    .dataframe tbody tr th:only-of-type {\n",
       "        vertical-align: middle;\n",
       "    }\n",
       "\n",
       "    .dataframe tbody tr th {\n",
       "        vertical-align: top;\n",
       "    }\n",
       "\n",
       "    .dataframe thead th {\n",
       "        text-align: right;\n",
       "    }\n",
       "</style>\n",
       "<table border=\"1\" class=\"dataframe\">\n",
       "  <thead>\n",
       "    <tr style=\"text-align: right;\">\n",
       "      <th></th>\n",
       "      <th>customer_id</th>\n",
       "      <th>customer_unique_id</th>\n",
       "      <th>customer_zip_code_prefix</th>\n",
       "      <th>customer_city</th>\n",
       "      <th>customer_state</th>\n",
       "    </tr>\n",
       "  </thead>\n",
       "  <tbody>\n",
       "    <tr>\n",
       "      <th>0</th>\n",
       "      <td>06b8999e2fba1a1fbc88172c00ba8bc7</td>\n",
       "      <td>861eff4711a542e4b93843c6dd7febb0</td>\n",
       "      <td>14409</td>\n",
       "      <td>franca</td>\n",
       "      <td>SP</td>\n",
       "    </tr>\n",
       "    <tr>\n",
       "      <th>1</th>\n",
       "      <td>18955e83d337fd6b2def6b18a428ac77</td>\n",
       "      <td>290c77bc529b7ac935b93aa66c333dc3</td>\n",
       "      <td>9790</td>\n",
       "      <td>sao bernardo do campo</td>\n",
       "      <td>SP</td>\n",
       "    </tr>\n",
       "    <tr>\n",
       "      <th>2</th>\n",
       "      <td>4e7b3e00288586ebd08712fdd0374a03</td>\n",
       "      <td>060e732b5b29e8181a18229c7b0b2b5e</td>\n",
       "      <td>1151</td>\n",
       "      <td>sao paulo</td>\n",
       "      <td>SP</td>\n",
       "    </tr>\n",
       "    <tr>\n",
       "      <th>3</th>\n",
       "      <td>b2b6027bc5c5109e529d4dc6358b12c3</td>\n",
       "      <td>259dac757896d24d7702b9acbbff3f3c</td>\n",
       "      <td>8775</td>\n",
       "      <td>mogi das cruzes</td>\n",
       "      <td>SP</td>\n",
       "    </tr>\n",
       "    <tr>\n",
       "      <th>4</th>\n",
       "      <td>4f2d8ab171c80ec8364f7c12e35b23ad</td>\n",
       "      <td>345ecd01c38d18a9036ed96c73b8d066</td>\n",
       "      <td>13056</td>\n",
       "      <td>campinas</td>\n",
       "      <td>SP</td>\n",
       "    </tr>\n",
       "    <tr>\n",
       "      <th>5</th>\n",
       "      <td>879864dab9bc3047522c92c82e1212b8</td>\n",
       "      <td>4c93744516667ad3b8f1fb645a3116a4</td>\n",
       "      <td>89254</td>\n",
       "      <td>jaragua do sul</td>\n",
       "      <td>SC</td>\n",
       "    </tr>\n",
       "    <tr>\n",
       "      <th>6</th>\n",
       "      <td>fd826e7cf63160e536e0908c76c3f441</td>\n",
       "      <td>addec96d2e059c80c30fe6871d30d177</td>\n",
       "      <td>4534</td>\n",
       "      <td>sao paulo</td>\n",
       "      <td>SP</td>\n",
       "    </tr>\n",
       "    <tr>\n",
       "      <th>7</th>\n",
       "      <td>5e274e7a0c3809e14aba7ad5aae0d407</td>\n",
       "      <td>57b2a98a409812fe9618067b6b8ebe4f</td>\n",
       "      <td>35182</td>\n",
       "      <td>timoteo</td>\n",
       "      <td>MG</td>\n",
       "    </tr>\n",
       "    <tr>\n",
       "      <th>8</th>\n",
       "      <td>5adf08e34b2e993982a47070956c5c65</td>\n",
       "      <td>1175e95fb47ddff9de6b2b06188f7e0d</td>\n",
       "      <td>81560</td>\n",
       "      <td>curitiba</td>\n",
       "      <td>PR</td>\n",
       "    </tr>\n",
       "    <tr>\n",
       "      <th>9</th>\n",
       "      <td>4b7139f34592b3a31687243a302fa75b</td>\n",
       "      <td>9afe194fb833f79e300e37e580171f22</td>\n",
       "      <td>30575</td>\n",
       "      <td>belo horizonte</td>\n",
       "      <td>MG</td>\n",
       "    </tr>\n",
       "  </tbody>\n",
       "</table>\n",
       "</div>"
      ],
      "text/plain": [
       "                        customer_id                customer_unique_id  \\\n",
       "0  06b8999e2fba1a1fbc88172c00ba8bc7  861eff4711a542e4b93843c6dd7febb0   \n",
       "1  18955e83d337fd6b2def6b18a428ac77  290c77bc529b7ac935b93aa66c333dc3   \n",
       "2  4e7b3e00288586ebd08712fdd0374a03  060e732b5b29e8181a18229c7b0b2b5e   \n",
       "3  b2b6027bc5c5109e529d4dc6358b12c3  259dac757896d24d7702b9acbbff3f3c   \n",
       "4  4f2d8ab171c80ec8364f7c12e35b23ad  345ecd01c38d18a9036ed96c73b8d066   \n",
       "5  879864dab9bc3047522c92c82e1212b8  4c93744516667ad3b8f1fb645a3116a4   \n",
       "6  fd826e7cf63160e536e0908c76c3f441  addec96d2e059c80c30fe6871d30d177   \n",
       "7  5e274e7a0c3809e14aba7ad5aae0d407  57b2a98a409812fe9618067b6b8ebe4f   \n",
       "8  5adf08e34b2e993982a47070956c5c65  1175e95fb47ddff9de6b2b06188f7e0d   \n",
       "9  4b7139f34592b3a31687243a302fa75b  9afe194fb833f79e300e37e580171f22   \n",
       "\n",
       "   customer_zip_code_prefix          customer_city customer_state  \n",
       "0                     14409                 franca             SP  \n",
       "1                      9790  sao bernardo do campo             SP  \n",
       "2                      1151              sao paulo             SP  \n",
       "3                      8775        mogi das cruzes             SP  \n",
       "4                     13056               campinas             SP  \n",
       "5                     89254         jaragua do sul             SC  \n",
       "6                      4534              sao paulo             SP  \n",
       "7                     35182                timoteo             MG  \n",
       "8                     81560               curitiba             PR  \n",
       "9                     30575         belo horizonte             MG  "
      ]
     },
     "execution_count": 7,
     "metadata": {},
     "output_type": "execute_result"
    }
   ],
   "source": [
    "# Vendo as 10 linhas do arquivo de clientes\n",
    "customers_df.head(10)"
   ]
  },
  {
   "cell_type": "code",
   "execution_count": 8,
   "id": "73907a35",
   "metadata": {
    "id": "73907a35",
    "outputId": "18213b1a-d39c-413f-e466-a744b0c1dc03"
   },
   "outputs": [
    {
     "data": {
      "text/plain": [
       "(99441, 5)"
      ]
     },
     "execution_count": 8,
     "metadata": {},
     "output_type": "execute_result"
    }
   ],
   "source": [
    "# Quantas linhas e colunas tem o dataframe de clientes\n",
    "customers_df.shape"
   ]
  },
  {
   "cell_type": "markdown",
   "id": "ed530d69",
   "metadata": {
    "id": "ed530d69"
   },
   "source": [
    "## Conhecendo os dados!\n",
    "\n",
    "Aqui é interessante observar os dados para que se possa ter ideia das variáveis analisadas"
   ]
  },
  {
   "cell_type": "code",
   "execution_count": 9,
   "id": "40d6ff6d",
   "metadata": {
    "id": "eb41292f",
    "outputId": "b6e23b7b-a5a9-429c-a77c-1a0e271d7f79"
   },
   "outputs": [
    {
     "name": "stdout",
     "output_type": "stream",
     "text": [
      "customers_df:\n"
     ]
    },
    {
     "data": {
      "text/html": [
       "<div>\n",
       "<style scoped>\n",
       "    .dataframe tbody tr th:only-of-type {\n",
       "        vertical-align: middle;\n",
       "    }\n",
       "\n",
       "    .dataframe tbody tr th {\n",
       "        vertical-align: top;\n",
       "    }\n",
       "\n",
       "    .dataframe thead th {\n",
       "        text-align: right;\n",
       "    }\n",
       "</style>\n",
       "<table border=\"1\" class=\"dataframe\">\n",
       "  <thead>\n",
       "    <tr style=\"text-align: right;\">\n",
       "      <th></th>\n",
       "      <th>customer_id</th>\n",
       "      <th>customer_unique_id</th>\n",
       "      <th>customer_zip_code_prefix</th>\n",
       "      <th>customer_city</th>\n",
       "      <th>customer_state</th>\n",
       "    </tr>\n",
       "  </thead>\n",
       "  <tbody>\n",
       "    <tr>\n",
       "      <th>0</th>\n",
       "      <td>06b8999e2fba1a1fbc88172c00ba8bc7</td>\n",
       "      <td>861eff4711a542e4b93843c6dd7febb0</td>\n",
       "      <td>14409</td>\n",
       "      <td>franca</td>\n",
       "      <td>SP</td>\n",
       "    </tr>\n",
       "    <tr>\n",
       "      <th>1</th>\n",
       "      <td>18955e83d337fd6b2def6b18a428ac77</td>\n",
       "      <td>290c77bc529b7ac935b93aa66c333dc3</td>\n",
       "      <td>9790</td>\n",
       "      <td>sao bernardo do campo</td>\n",
       "      <td>SP</td>\n",
       "    </tr>\n",
       "  </tbody>\n",
       "</table>\n",
       "</div>"
      ],
      "text/plain": [
       "                        customer_id                customer_unique_id  \\\n",
       "0  06b8999e2fba1a1fbc88172c00ba8bc7  861eff4711a542e4b93843c6dd7febb0   \n",
       "1  18955e83d337fd6b2def6b18a428ac77  290c77bc529b7ac935b93aa66c333dc3   \n",
       "\n",
       "   customer_zip_code_prefix          customer_city customer_state  \n",
       "0                     14409                 franca             SP  \n",
       "1                      9790  sao bernardo do campo             SP  "
      ]
     },
     "metadata": {},
     "output_type": "display_data"
    },
    {
     "name": "stdout",
     "output_type": "stream",
     "text": [
      "\n",
      "geo_df:\n"
     ]
    },
    {
     "data": {
      "text/html": [
       "<div>\n",
       "<style scoped>\n",
       "    .dataframe tbody tr th:only-of-type {\n",
       "        vertical-align: middle;\n",
       "    }\n",
       "\n",
       "    .dataframe tbody tr th {\n",
       "        vertical-align: top;\n",
       "    }\n",
       "\n",
       "    .dataframe thead th {\n",
       "        text-align: right;\n",
       "    }\n",
       "</style>\n",
       "<table border=\"1\" class=\"dataframe\">\n",
       "  <thead>\n",
       "    <tr style=\"text-align: right;\">\n",
       "      <th></th>\n",
       "      <th>geolocation_zip_code_prefix</th>\n",
       "      <th>geolocation_lat</th>\n",
       "      <th>geolocation_lng</th>\n",
       "      <th>geolocation_city</th>\n",
       "      <th>geolocation_state</th>\n",
       "    </tr>\n",
       "  </thead>\n",
       "  <tbody>\n",
       "    <tr>\n",
       "      <th>0</th>\n",
       "      <td>1037</td>\n",
       "      <td>-23.545621</td>\n",
       "      <td>-46.639292</td>\n",
       "      <td>sao paulo</td>\n",
       "      <td>SP</td>\n",
       "    </tr>\n",
       "    <tr>\n",
       "      <th>1</th>\n",
       "      <td>1046</td>\n",
       "      <td>-23.546081</td>\n",
       "      <td>-46.644820</td>\n",
       "      <td>sao paulo</td>\n",
       "      <td>SP</td>\n",
       "    </tr>\n",
       "  </tbody>\n",
       "</table>\n",
       "</div>"
      ],
      "text/plain": [
       "   geolocation_zip_code_prefix  geolocation_lat  geolocation_lng  \\\n",
       "0                         1037       -23.545621       -46.639292   \n",
       "1                         1046       -23.546081       -46.644820   \n",
       "\n",
       "  geolocation_city geolocation_state  \n",
       "0        sao paulo                SP  \n",
       "1        sao paulo                SP  "
      ]
     },
     "metadata": {},
     "output_type": "display_data"
    },
    {
     "name": "stdout",
     "output_type": "stream",
     "text": [
      "\n",
      "orderitem_df:\n"
     ]
    },
    {
     "data": {
      "text/html": [
       "<div>\n",
       "<style scoped>\n",
       "    .dataframe tbody tr th:only-of-type {\n",
       "        vertical-align: middle;\n",
       "    }\n",
       "\n",
       "    .dataframe tbody tr th {\n",
       "        vertical-align: top;\n",
       "    }\n",
       "\n",
       "    .dataframe thead th {\n",
       "        text-align: right;\n",
       "    }\n",
       "</style>\n",
       "<table border=\"1\" class=\"dataframe\">\n",
       "  <thead>\n",
       "    <tr style=\"text-align: right;\">\n",
       "      <th></th>\n",
       "      <th>order_id</th>\n",
       "      <th>order_item_id</th>\n",
       "      <th>product_id</th>\n",
       "      <th>seller_id</th>\n",
       "      <th>shipping_limit_date</th>\n",
       "      <th>price</th>\n",
       "      <th>freight_value</th>\n",
       "    </tr>\n",
       "  </thead>\n",
       "  <tbody>\n",
       "    <tr>\n",
       "      <th>0</th>\n",
       "      <td>00010242fe8c5a6d1ba2dd792cb16214</td>\n",
       "      <td>1</td>\n",
       "      <td>4244733e06e7ecb4970a6e2683c13e61</td>\n",
       "      <td>48436dade18ac8b2bce089ec2a041202</td>\n",
       "      <td>2017-09-19 09:45:35</td>\n",
       "      <td>58.9</td>\n",
       "      <td>13.29</td>\n",
       "    </tr>\n",
       "    <tr>\n",
       "      <th>1</th>\n",
       "      <td>00018f77f2f0320c557190d7a144bdd3</td>\n",
       "      <td>1</td>\n",
       "      <td>e5f2d52b802189ee658865ca93d83a8f</td>\n",
       "      <td>dd7ddc04e1b6c2c614352b383efe2d36</td>\n",
       "      <td>2017-05-03 11:05:13</td>\n",
       "      <td>239.9</td>\n",
       "      <td>19.93</td>\n",
       "    </tr>\n",
       "  </tbody>\n",
       "</table>\n",
       "</div>"
      ],
      "text/plain": [
       "                           order_id  order_item_id  \\\n",
       "0  00010242fe8c5a6d1ba2dd792cb16214              1   \n",
       "1  00018f77f2f0320c557190d7a144bdd3              1   \n",
       "\n",
       "                         product_id                         seller_id  \\\n",
       "0  4244733e06e7ecb4970a6e2683c13e61  48436dade18ac8b2bce089ec2a041202   \n",
       "1  e5f2d52b802189ee658865ca93d83a8f  dd7ddc04e1b6c2c614352b383efe2d36   \n",
       "\n",
       "   shipping_limit_date  price  freight_value  \n",
       "0  2017-09-19 09:45:35   58.9          13.29  \n",
       "1  2017-05-03 11:05:13  239.9          19.93  "
      ]
     },
     "metadata": {},
     "output_type": "display_data"
    },
    {
     "name": "stdout",
     "output_type": "stream",
     "text": [
      "\n",
      "orderpay_df:\n"
     ]
    },
    {
     "data": {
      "text/html": [
       "<div>\n",
       "<style scoped>\n",
       "    .dataframe tbody tr th:only-of-type {\n",
       "        vertical-align: middle;\n",
       "    }\n",
       "\n",
       "    .dataframe tbody tr th {\n",
       "        vertical-align: top;\n",
       "    }\n",
       "\n",
       "    .dataframe thead th {\n",
       "        text-align: right;\n",
       "    }\n",
       "</style>\n",
       "<table border=\"1\" class=\"dataframe\">\n",
       "  <thead>\n",
       "    <tr style=\"text-align: right;\">\n",
       "      <th></th>\n",
       "      <th>order_id</th>\n",
       "      <th>payment_sequential</th>\n",
       "      <th>payment_type</th>\n",
       "      <th>payment_installments</th>\n",
       "      <th>payment_value</th>\n",
       "    </tr>\n",
       "  </thead>\n",
       "  <tbody>\n",
       "    <tr>\n",
       "      <th>0</th>\n",
       "      <td>b81ef226f3fe1789b1e8b2acac839d17</td>\n",
       "      <td>1</td>\n",
       "      <td>credit_card</td>\n",
       "      <td>8</td>\n",
       "      <td>99.33</td>\n",
       "    </tr>\n",
       "    <tr>\n",
       "      <th>1</th>\n",
       "      <td>a9810da82917af2d9aefd1278f1dcfa0</td>\n",
       "      <td>1</td>\n",
       "      <td>credit_card</td>\n",
       "      <td>1</td>\n",
       "      <td>24.39</td>\n",
       "    </tr>\n",
       "  </tbody>\n",
       "</table>\n",
       "</div>"
      ],
      "text/plain": [
       "                           order_id  payment_sequential payment_type  \\\n",
       "0  b81ef226f3fe1789b1e8b2acac839d17                   1  credit_card   \n",
       "1  a9810da82917af2d9aefd1278f1dcfa0                   1  credit_card   \n",
       "\n",
       "   payment_installments  payment_value  \n",
       "0                     8          99.33  \n",
       "1                     1          24.39  "
      ]
     },
     "metadata": {},
     "output_type": "display_data"
    },
    {
     "name": "stdout",
     "output_type": "stream",
     "text": [
      "\n",
      "orderreviews_df:\n"
     ]
    },
    {
     "data": {
      "text/html": [
       "<div>\n",
       "<style scoped>\n",
       "    .dataframe tbody tr th:only-of-type {\n",
       "        vertical-align: middle;\n",
       "    }\n",
       "\n",
       "    .dataframe tbody tr th {\n",
       "        vertical-align: top;\n",
       "    }\n",
       "\n",
       "    .dataframe thead th {\n",
       "        text-align: right;\n",
       "    }\n",
       "</style>\n",
       "<table border=\"1\" class=\"dataframe\">\n",
       "  <thead>\n",
       "    <tr style=\"text-align: right;\">\n",
       "      <th></th>\n",
       "      <th>review_id</th>\n",
       "      <th>order_id</th>\n",
       "      <th>review_score</th>\n",
       "      <th>review_comment_title</th>\n",
       "      <th>review_comment_message</th>\n",
       "      <th>review_creation_date</th>\n",
       "      <th>review_answer_timestamp</th>\n",
       "    </tr>\n",
       "  </thead>\n",
       "  <tbody>\n",
       "    <tr>\n",
       "      <th>0</th>\n",
       "      <td>7bc2406110b926393aa56f80a40eba40</td>\n",
       "      <td>73fc7af87114b39712e6da79b0a377eb</td>\n",
       "      <td>4</td>\n",
       "      <td>NaN</td>\n",
       "      <td>NaN</td>\n",
       "      <td>2018-01-18 00:00:00</td>\n",
       "      <td>2018-01-18 21:46:59</td>\n",
       "    </tr>\n",
       "    <tr>\n",
       "      <th>1</th>\n",
       "      <td>80e641a11e56f04c1ad469d5645fdfde</td>\n",
       "      <td>a548910a1c6147796b98fdf73dbeba33</td>\n",
       "      <td>5</td>\n",
       "      <td>NaN</td>\n",
       "      <td>NaN</td>\n",
       "      <td>2018-03-10 00:00:00</td>\n",
       "      <td>2018-03-11 03:05:13</td>\n",
       "    </tr>\n",
       "  </tbody>\n",
       "</table>\n",
       "</div>"
      ],
      "text/plain": [
       "                          review_id                          order_id  \\\n",
       "0  7bc2406110b926393aa56f80a40eba40  73fc7af87114b39712e6da79b0a377eb   \n",
       "1  80e641a11e56f04c1ad469d5645fdfde  a548910a1c6147796b98fdf73dbeba33   \n",
       "\n",
       "   review_score review_comment_title review_comment_message  \\\n",
       "0             4                  NaN                    NaN   \n",
       "1             5                  NaN                    NaN   \n",
       "\n",
       "  review_creation_date review_answer_timestamp  \n",
       "0  2018-01-18 00:00:00     2018-01-18 21:46:59  \n",
       "1  2018-03-10 00:00:00     2018-03-11 03:05:13  "
      ]
     },
     "metadata": {},
     "output_type": "display_data"
    },
    {
     "name": "stdout",
     "output_type": "stream",
     "text": [
      "\n",
      "orders_df:\n"
     ]
    },
    {
     "data": {
      "text/html": [
       "<div>\n",
       "<style scoped>\n",
       "    .dataframe tbody tr th:only-of-type {\n",
       "        vertical-align: middle;\n",
       "    }\n",
       "\n",
       "    .dataframe tbody tr th {\n",
       "        vertical-align: top;\n",
       "    }\n",
       "\n",
       "    .dataframe thead th {\n",
       "        text-align: right;\n",
       "    }\n",
       "</style>\n",
       "<table border=\"1\" class=\"dataframe\">\n",
       "  <thead>\n",
       "    <tr style=\"text-align: right;\">\n",
       "      <th></th>\n",
       "      <th>order_id</th>\n",
       "      <th>customer_id</th>\n",
       "      <th>order_status</th>\n",
       "      <th>order_purchase_timestamp</th>\n",
       "      <th>order_approved_at</th>\n",
       "      <th>order_delivered_carrier_date</th>\n",
       "      <th>order_delivered_customer_date</th>\n",
       "      <th>order_estimated_delivery_date</th>\n",
       "    </tr>\n",
       "  </thead>\n",
       "  <tbody>\n",
       "    <tr>\n",
       "      <th>0</th>\n",
       "      <td>e481f51cbdc54678b7cc49136f2d6af7</td>\n",
       "      <td>9ef432eb6251297304e76186b10a928d</td>\n",
       "      <td>delivered</td>\n",
       "      <td>2017-10-02 10:56:33</td>\n",
       "      <td>2017-10-02 11:07:15</td>\n",
       "      <td>2017-10-04 19:55:00</td>\n",
       "      <td>2017-10-10 21:25:13</td>\n",
       "      <td>2017-10-18 00:00:00</td>\n",
       "    </tr>\n",
       "    <tr>\n",
       "      <th>1</th>\n",
       "      <td>53cdb2fc8bc7dce0b6741e2150273451</td>\n",
       "      <td>b0830fb4747a6c6d20dea0b8c802d7ef</td>\n",
       "      <td>delivered</td>\n",
       "      <td>2018-07-24 20:41:37</td>\n",
       "      <td>2018-07-26 03:24:27</td>\n",
       "      <td>2018-07-26 14:31:00</td>\n",
       "      <td>2018-08-07 15:27:45</td>\n",
       "      <td>2018-08-13 00:00:00</td>\n",
       "    </tr>\n",
       "  </tbody>\n",
       "</table>\n",
       "</div>"
      ],
      "text/plain": [
       "                           order_id                       customer_id  \\\n",
       "0  e481f51cbdc54678b7cc49136f2d6af7  9ef432eb6251297304e76186b10a928d   \n",
       "1  53cdb2fc8bc7dce0b6741e2150273451  b0830fb4747a6c6d20dea0b8c802d7ef   \n",
       "\n",
       "  order_status order_purchase_timestamp    order_approved_at  \\\n",
       "0    delivered      2017-10-02 10:56:33  2017-10-02 11:07:15   \n",
       "1    delivered      2018-07-24 20:41:37  2018-07-26 03:24:27   \n",
       "\n",
       "  order_delivered_carrier_date order_delivered_customer_date  \\\n",
       "0          2017-10-04 19:55:00           2017-10-10 21:25:13   \n",
       "1          2018-07-26 14:31:00           2018-08-07 15:27:45   \n",
       "\n",
       "  order_estimated_delivery_date  \n",
       "0           2017-10-18 00:00:00  \n",
       "1           2018-08-13 00:00:00  "
      ]
     },
     "metadata": {},
     "output_type": "display_data"
    },
    {
     "name": "stdout",
     "output_type": "stream",
     "text": [
      "\n",
      "products_df:\n"
     ]
    },
    {
     "data": {
      "text/html": [
       "<div>\n",
       "<style scoped>\n",
       "    .dataframe tbody tr th:only-of-type {\n",
       "        vertical-align: middle;\n",
       "    }\n",
       "\n",
       "    .dataframe tbody tr th {\n",
       "        vertical-align: top;\n",
       "    }\n",
       "\n",
       "    .dataframe thead th {\n",
       "        text-align: right;\n",
       "    }\n",
       "</style>\n",
       "<table border=\"1\" class=\"dataframe\">\n",
       "  <thead>\n",
       "    <tr style=\"text-align: right;\">\n",
       "      <th></th>\n",
       "      <th>product_id</th>\n",
       "      <th>product_category_name</th>\n",
       "      <th>product_name_lenght</th>\n",
       "      <th>product_description_lenght</th>\n",
       "      <th>product_photos_qty</th>\n",
       "      <th>product_weight_g</th>\n",
       "      <th>product_length_cm</th>\n",
       "      <th>product_height_cm</th>\n",
       "      <th>product_width_cm</th>\n",
       "    </tr>\n",
       "  </thead>\n",
       "  <tbody>\n",
       "    <tr>\n",
       "      <th>0</th>\n",
       "      <td>1e9e8ef04dbcff4541ed26657ea517e5</td>\n",
       "      <td>perfumaria</td>\n",
       "      <td>40.0</td>\n",
       "      <td>287.0</td>\n",
       "      <td>1.0</td>\n",
       "      <td>225.0</td>\n",
       "      <td>16.0</td>\n",
       "      <td>10.0</td>\n",
       "      <td>14.0</td>\n",
       "    </tr>\n",
       "    <tr>\n",
       "      <th>1</th>\n",
       "      <td>3aa071139cb16b67ca9e5dea641aaa2f</td>\n",
       "      <td>artes</td>\n",
       "      <td>44.0</td>\n",
       "      <td>276.0</td>\n",
       "      <td>1.0</td>\n",
       "      <td>1000.0</td>\n",
       "      <td>30.0</td>\n",
       "      <td>18.0</td>\n",
       "      <td>20.0</td>\n",
       "    </tr>\n",
       "  </tbody>\n",
       "</table>\n",
       "</div>"
      ],
      "text/plain": [
       "                         product_id product_category_name  \\\n",
       "0  1e9e8ef04dbcff4541ed26657ea517e5            perfumaria   \n",
       "1  3aa071139cb16b67ca9e5dea641aaa2f                 artes   \n",
       "\n",
       "   product_name_lenght  product_description_lenght  product_photos_qty  \\\n",
       "0                 40.0                       287.0                 1.0   \n",
       "1                 44.0                       276.0                 1.0   \n",
       "\n",
       "   product_weight_g  product_length_cm  product_height_cm  product_width_cm  \n",
       "0             225.0               16.0               10.0              14.0  \n",
       "1            1000.0               30.0               18.0              20.0  "
      ]
     },
     "metadata": {},
     "output_type": "display_data"
    },
    {
     "name": "stdout",
     "output_type": "stream",
     "text": [
      "\n",
      "sellers_df:\n"
     ]
    },
    {
     "data": {
      "text/html": [
       "<div>\n",
       "<style scoped>\n",
       "    .dataframe tbody tr th:only-of-type {\n",
       "        vertical-align: middle;\n",
       "    }\n",
       "\n",
       "    .dataframe tbody tr th {\n",
       "        vertical-align: top;\n",
       "    }\n",
       "\n",
       "    .dataframe thead th {\n",
       "        text-align: right;\n",
       "    }\n",
       "</style>\n",
       "<table border=\"1\" class=\"dataframe\">\n",
       "  <thead>\n",
       "    <tr style=\"text-align: right;\">\n",
       "      <th></th>\n",
       "      <th>seller_id</th>\n",
       "      <th>seller_zip_code_prefix</th>\n",
       "      <th>seller_city</th>\n",
       "      <th>seller_state</th>\n",
       "    </tr>\n",
       "  </thead>\n",
       "  <tbody>\n",
       "    <tr>\n",
       "      <th>0</th>\n",
       "      <td>3442f8959a84dea7ee197c632cb2df15</td>\n",
       "      <td>13023</td>\n",
       "      <td>campinas</td>\n",
       "      <td>SP</td>\n",
       "    </tr>\n",
       "    <tr>\n",
       "      <th>1</th>\n",
       "      <td>d1b65fc7debc3361ea86b5f14c68d2e2</td>\n",
       "      <td>13844</td>\n",
       "      <td>mogi guacu</td>\n",
       "      <td>SP</td>\n",
       "    </tr>\n",
       "  </tbody>\n",
       "</table>\n",
       "</div>"
      ],
      "text/plain": [
       "                          seller_id  seller_zip_code_prefix seller_city  \\\n",
       "0  3442f8959a84dea7ee197c632cb2df15                   13023    campinas   \n",
       "1  d1b65fc7debc3361ea86b5f14c68d2e2                   13844  mogi guacu   \n",
       "\n",
       "  seller_state  \n",
       "0           SP  \n",
       "1           SP  "
      ]
     },
     "metadata": {},
     "output_type": "display_data"
    },
    {
     "name": "stdout",
     "output_type": "stream",
     "text": [
      "\n",
      "categname_df:\n"
     ]
    },
    {
     "data": {
      "text/html": [
       "<div>\n",
       "<style scoped>\n",
       "    .dataframe tbody tr th:only-of-type {\n",
       "        vertical-align: middle;\n",
       "    }\n",
       "\n",
       "    .dataframe tbody tr th {\n",
       "        vertical-align: top;\n",
       "    }\n",
       "\n",
       "    .dataframe thead th {\n",
       "        text-align: right;\n",
       "    }\n",
       "</style>\n",
       "<table border=\"1\" class=\"dataframe\">\n",
       "  <thead>\n",
       "    <tr style=\"text-align: right;\">\n",
       "      <th></th>\n",
       "      <th>product_category_name</th>\n",
       "      <th>product_category_name_english</th>\n",
       "    </tr>\n",
       "  </thead>\n",
       "  <tbody>\n",
       "    <tr>\n",
       "      <th>0</th>\n",
       "      <td>beleza_saude</td>\n",
       "      <td>health_beauty</td>\n",
       "    </tr>\n",
       "    <tr>\n",
       "      <th>1</th>\n",
       "      <td>informatica_acessorios</td>\n",
       "      <td>computers_accessories</td>\n",
       "    </tr>\n",
       "  </tbody>\n",
       "</table>\n",
       "</div>"
      ],
      "text/plain": [
       "    product_category_name product_category_name_english\n",
       "0            beleza_saude                 health_beauty\n",
       "1  informatica_acessorios         computers_accessories"
      ]
     },
     "metadata": {},
     "output_type": "display_data"
    }
   ],
   "source": [
    "# imprimindo em 2 linhas os dataset\n",
    "print(\"customers_df:\")\n",
    "display(customers_df.head(2))\n",
    "\n",
    "print(\"\\ngeo_df:\")\n",
    "display(geo_df.head(2))\n",
    "\n",
    "print(\"\\norderitem_df:\")\n",
    "display(orderitem_df.head(2))\n",
    "\n",
    "print(\"\\norderpay_df:\")\n",
    "display(orderpay_df.head(2))\n",
    "\n",
    "print(\"\\norderreviews_df:\")\n",
    "display(orderreviews_df.head(2))\n",
    "\n",
    "print(\"\\norders_df:\")\n",
    "display(orders_df.head(2))\n",
    "\n",
    "print(\"\\nproducts_df:\")\n",
    "display(products_df.head(2))\n",
    "\n",
    "print(\"\\nsellers_df:\")\n",
    "display(sellers_df.head(2))\n",
    "\n",
    "print(\"\\ncategname_df:\")\n",
    "display(categname_df.head(2))"
   ]
  },
  {
   "cell_type": "markdown",
   "id": "d63c4dbe",
   "metadata": {},
   "source": [
    "### Aqui é melhor buscar as informações do dataset para melhor conhecê-los!"
   ]
  },
  {
   "cell_type": "code",
   "execution_count": 10,
   "id": "a0e24b68",
   "metadata": {
    "id": "a0e24b68",
    "outputId": "09205040-f866-4907-af05-e55e6e5a9d37"
   },
   "outputs": [
    {
     "name": "stdout",
     "output_type": "stream",
     "text": [
      "customers_df:\n",
      "\n",
      "<class 'pandas.core.frame.DataFrame'>\n",
      "RangeIndex: 99441 entries, 0 to 99440\n",
      "Data columns (total 5 columns):\n",
      " #   Column                    Non-Null Count  Dtype \n",
      "---  ------                    --------------  ----- \n",
      " 0   customer_id               99441 non-null  object\n",
      " 1   customer_unique_id        99441 non-null  object\n",
      " 2   customer_zip_code_prefix  99441 non-null  int64 \n",
      " 3   customer_city             99441 non-null  object\n",
      " 4   customer_state            99441 non-null  object\n",
      "dtypes: int64(1), object(4)\n",
      "memory usage: 3.8+ MB\n"
     ]
    },
    {
     "data": {
      "text/plain": [
       "None"
      ]
     },
     "metadata": {},
     "output_type": "display_data"
    },
    {
     "name": "stdout",
     "output_type": "stream",
     "text": [
      "\n",
      "geo_df:\n",
      "\n",
      "<class 'pandas.core.frame.DataFrame'>\n",
      "RangeIndex: 1000163 entries, 0 to 1000162\n",
      "Data columns (total 5 columns):\n",
      " #   Column                       Non-Null Count    Dtype  \n",
      "---  ------                       --------------    -----  \n",
      " 0   geolocation_zip_code_prefix  1000163 non-null  int64  \n",
      " 1   geolocation_lat              1000163 non-null  float64\n",
      " 2   geolocation_lng              1000163 non-null  float64\n",
      " 3   geolocation_city             1000163 non-null  object \n",
      " 4   geolocation_state            1000163 non-null  object \n",
      "dtypes: float64(2), int64(1), object(2)\n",
      "memory usage: 38.2+ MB\n"
     ]
    },
    {
     "data": {
      "text/plain": [
       "None"
      ]
     },
     "metadata": {},
     "output_type": "display_data"
    },
    {
     "name": "stdout",
     "output_type": "stream",
     "text": [
      "\n",
      "orderitem_df:\n",
      "\n",
      "<class 'pandas.core.frame.DataFrame'>\n",
      "RangeIndex: 112650 entries, 0 to 112649\n",
      "Data columns (total 7 columns):\n",
      " #   Column               Non-Null Count   Dtype  \n",
      "---  ------               --------------   -----  \n",
      " 0   order_id             112650 non-null  object \n",
      " 1   order_item_id        112650 non-null  int64  \n",
      " 2   product_id           112650 non-null  object \n",
      " 3   seller_id            112650 non-null  object \n",
      " 4   shipping_limit_date  112650 non-null  object \n",
      " 5   price                112650 non-null  float64\n",
      " 6   freight_value        112650 non-null  float64\n",
      "dtypes: float64(2), int64(1), object(4)\n",
      "memory usage: 6.0+ MB\n"
     ]
    },
    {
     "data": {
      "text/plain": [
       "None"
      ]
     },
     "metadata": {},
     "output_type": "display_data"
    },
    {
     "name": "stdout",
     "output_type": "stream",
     "text": [
      "\n",
      "orderpay_df:\n",
      "\n",
      "<class 'pandas.core.frame.DataFrame'>\n",
      "RangeIndex: 103886 entries, 0 to 103885\n",
      "Data columns (total 5 columns):\n",
      " #   Column                Non-Null Count   Dtype  \n",
      "---  ------                --------------   -----  \n",
      " 0   order_id              103886 non-null  object \n",
      " 1   payment_sequential    103886 non-null  int64  \n",
      " 2   payment_type          103886 non-null  object \n",
      " 3   payment_installments  103886 non-null  int64  \n",
      " 4   payment_value         103886 non-null  float64\n",
      "dtypes: float64(1), int64(2), object(2)\n",
      "memory usage: 4.0+ MB\n"
     ]
    },
    {
     "data": {
      "text/plain": [
       "None"
      ]
     },
     "metadata": {},
     "output_type": "display_data"
    },
    {
     "name": "stdout",
     "output_type": "stream",
     "text": [
      "\n",
      "orderreviews_df:\n",
      "\n",
      "<class 'pandas.core.frame.DataFrame'>\n",
      "RangeIndex: 99224 entries, 0 to 99223\n",
      "Data columns (total 7 columns):\n",
      " #   Column                   Non-Null Count  Dtype \n",
      "---  ------                   --------------  ----- \n",
      " 0   review_id                99224 non-null  object\n",
      " 1   order_id                 99224 non-null  object\n",
      " 2   review_score             99224 non-null  int64 \n",
      " 3   review_comment_title     11568 non-null  object\n",
      " 4   review_comment_message   40977 non-null  object\n",
      " 5   review_creation_date     99224 non-null  object\n",
      " 6   review_answer_timestamp  99224 non-null  object\n",
      "dtypes: int64(1), object(6)\n",
      "memory usage: 5.3+ MB\n"
     ]
    },
    {
     "data": {
      "text/plain": [
       "None"
      ]
     },
     "metadata": {},
     "output_type": "display_data"
    },
    {
     "name": "stdout",
     "output_type": "stream",
     "text": [
      "\n",
      "orders_df:\n",
      "\n",
      "<class 'pandas.core.frame.DataFrame'>\n",
      "RangeIndex: 99441 entries, 0 to 99440\n",
      "Data columns (total 8 columns):\n",
      " #   Column                         Non-Null Count  Dtype \n",
      "---  ------                         --------------  ----- \n",
      " 0   order_id                       99441 non-null  object\n",
      " 1   customer_id                    99441 non-null  object\n",
      " 2   order_status                   99441 non-null  object\n",
      " 3   order_purchase_timestamp       99441 non-null  object\n",
      " 4   order_approved_at              99281 non-null  object\n",
      " 5   order_delivered_carrier_date   97658 non-null  object\n",
      " 6   order_delivered_customer_date  96476 non-null  object\n",
      " 7   order_estimated_delivery_date  99441 non-null  object\n",
      "dtypes: object(8)\n",
      "memory usage: 6.1+ MB\n"
     ]
    },
    {
     "data": {
      "text/plain": [
       "None"
      ]
     },
     "metadata": {},
     "output_type": "display_data"
    },
    {
     "name": "stdout",
     "output_type": "stream",
     "text": [
      "\n",
      "products_df:\n",
      "\n",
      "<class 'pandas.core.frame.DataFrame'>\n",
      "RangeIndex: 32951 entries, 0 to 32950\n",
      "Data columns (total 9 columns):\n",
      " #   Column                      Non-Null Count  Dtype  \n",
      "---  ------                      --------------  -----  \n",
      " 0   product_id                  32951 non-null  object \n",
      " 1   product_category_name       32341 non-null  object \n",
      " 2   product_name_lenght         32341 non-null  float64\n",
      " 3   product_description_lenght  32341 non-null  float64\n",
      " 4   product_photos_qty          32341 non-null  float64\n",
      " 5   product_weight_g            32949 non-null  float64\n",
      " 6   product_length_cm           32949 non-null  float64\n",
      " 7   product_height_cm           32949 non-null  float64\n",
      " 8   product_width_cm            32949 non-null  float64\n",
      "dtypes: float64(7), object(2)\n",
      "memory usage: 2.3+ MB\n"
     ]
    },
    {
     "data": {
      "text/plain": [
       "None"
      ]
     },
     "metadata": {},
     "output_type": "display_data"
    },
    {
     "name": "stdout",
     "output_type": "stream",
     "text": [
      "\n",
      "sellers_df:\n",
      "\n",
      "<class 'pandas.core.frame.DataFrame'>\n",
      "RangeIndex: 3095 entries, 0 to 3094\n",
      "Data columns (total 4 columns):\n",
      " #   Column                  Non-Null Count  Dtype \n",
      "---  ------                  --------------  ----- \n",
      " 0   seller_id               3095 non-null   object\n",
      " 1   seller_zip_code_prefix  3095 non-null   int64 \n",
      " 2   seller_city             3095 non-null   object\n",
      " 3   seller_state            3095 non-null   object\n",
      "dtypes: int64(1), object(3)\n",
      "memory usage: 96.8+ KB\n"
     ]
    },
    {
     "data": {
      "text/plain": [
       "None"
      ]
     },
     "metadata": {},
     "output_type": "display_data"
    },
    {
     "name": "stdout",
     "output_type": "stream",
     "text": [
      "\n",
      "categname_df:\n",
      "\n",
      "<class 'pandas.core.frame.DataFrame'>\n",
      "RangeIndex: 71 entries, 0 to 70\n",
      "Data columns (total 2 columns):\n",
      " #   Column                         Non-Null Count  Dtype \n",
      "---  ------                         --------------  ----- \n",
      " 0   product_category_name          71 non-null     object\n",
      " 1   product_category_name_english  71 non-null     object\n",
      "dtypes: object(2)\n",
      "memory usage: 1.2+ KB\n"
     ]
    },
    {
     "data": {
      "text/plain": [
       "None"
      ]
     },
     "metadata": {},
     "output_type": "display_data"
    }
   ],
   "source": [
    "# buscando informações sobre os dataset\n",
    "print(\"customers_df:\\n\")\n",
    "display(customers_df.info())\n",
    "\n",
    "print(\"\\ngeo_df:\\n\")\n",
    "display(geo_df.info())\n",
    "\n",
    "print(\"\\norderitem_df:\\n\")\n",
    "display(orderitem_df.info())\n",
    "\n",
    "print(\"\\norderpay_df:\\n\")\n",
    "display(orderpay_df.info())\n",
    "\n",
    "print(\"\\norderreviews_df:\\n\")\n",
    "display(orderreviews_df.info())\n",
    "\n",
    "print(\"\\norders_df:\\n\")\n",
    "display(orders_df.info())\n",
    "\n",
    "print(\"\\nproducts_df:\\n\")\n",
    "display(products_df.info())\n",
    "\n",
    "print(\"\\nsellers_df:\\n\")\n",
    "display(sellers_df.info())\n",
    "\n",
    "print(\"\\ncategname_df:\\n\")\n",
    "display(categname_df.info())"
   ]
  },
  {
   "cell_type": "markdown",
   "id": "17f545d7",
   "metadata": {
    "id": "17f545d7"
   },
   "source": [
    "<h2 style=\"color: #6c5b7b\">Renomeando Colunas</h2>\n",
    "\n",
    "Este trecho de código renomeia a coluna `customer_zip_code_prefix` do `DataFrame` `customers_df` para `zip_code` e a coluna `geolocation_zip_code_prefix` do `DataFrame` `geo_df` para `zip_code`, usando o método `rename()` da biblioteca `pandas`. \n",
    "\n",
    "- `customers_df` e `geo_df` são `DataFrames` que foram criados anteriormente a partir de arquivos CSV.\n",
    "- `{\"customer_zip_code_prefix\": \"zip_code\"}` e `{\"geolocation_zip_code_prefix\": \"zip_code\"}` são dicionários que indicam os nomes antigos e novos das colunas que devem ser renomeadas, respectivamente.\n",
    "- `rename()` é um método do objeto `DataFrame` que permite renomear colunas, índices ou ambos em um `DataFrame`.\n",
    "- `customers_df = customers_df.rename(columns={\"customer_zip_code_prefix\": \"zip_code\"})` e `geo_df = geo_df.rename(columns={\"geolocation_zip_code_prefix\": \"zip_code\"})` são as atribuições que fazem com que as alterações sejam salvas nos próprios `DataFrames` originais, em vez de criar novos `DataFrames` com as alterações.\n",
    "\n",
    "Renomear colunas pode ser útil em várias situações, como quando as colunas têm nomes longos e complicados, nomes com caracteres especiais ou para tornar os nomes das colunas mais descritivos e padronizados. Nesse caso, é somente para facilitar juntarmos os dados das bases de clientes e de geolocalizacao (por meio do CEP)\n"
   ]
  },
  {
   "cell_type": "code",
   "execution_count": 11,
   "id": "d7ec55c0",
   "metadata": {
    "execution": {
     "iopub.execute_input": "2022-07-20T18:10:27.711552Z",
     "iopub.status.busy": "2022-07-20T18:10:27.711126Z",
     "iopub.status.idle": "2022-07-20T18:10:27.725818Z",
     "shell.execute_reply": "2022-07-20T18:10:27.724636Z"
    },
    "id": "d7ec55c0",
    "papermill": {
     "duration": 0.040271,
     "end_time": "2022-07-20T18:10:27.728347",
     "exception": false,
     "start_time": "2022-07-20T18:10:27.688076",
     "status": "completed"
    },
    "tags": []
   },
   "outputs": [],
   "source": [
    "# aqui renomeamos a a coluna CEP\n",
    "customers_df = customers_df.rename(columns={\"customer_zip_code_prefix\": \"zip_code\"})\n",
    "geo_df = geo_df.rename(columns={\"geolocation_zip_code_prefix\": \"zip_code\"})"
   ]
  },
  {
   "cell_type": "code",
   "execution_count": 12,
   "id": "cc471feb",
   "metadata": {
    "id": "cc471feb",
    "outputId": "8c13aff1-6a1f-4f12-955d-0e66e1fd955f"
   },
   "outputs": [
    {
     "data": {
      "text/html": [
       "<div>\n",
       "<style scoped>\n",
       "    .dataframe tbody tr th:only-of-type {\n",
       "        vertical-align: middle;\n",
       "    }\n",
       "\n",
       "    .dataframe tbody tr th {\n",
       "        vertical-align: top;\n",
       "    }\n",
       "\n",
       "    .dataframe thead th {\n",
       "        text-align: right;\n",
       "    }\n",
       "</style>\n",
       "<table border=\"1\" class=\"dataframe\">\n",
       "  <thead>\n",
       "    <tr style=\"text-align: right;\">\n",
       "      <th></th>\n",
       "      <th>customer_id</th>\n",
       "      <th>customer_unique_id</th>\n",
       "      <th>zip_code</th>\n",
       "      <th>customer_city</th>\n",
       "      <th>customer_state</th>\n",
       "    </tr>\n",
       "  </thead>\n",
       "  <tbody>\n",
       "    <tr>\n",
       "      <th>0</th>\n",
       "      <td>06b8999e2fba1a1fbc88172c00ba8bc7</td>\n",
       "      <td>861eff4711a542e4b93843c6dd7febb0</td>\n",
       "      <td>14409</td>\n",
       "      <td>franca</td>\n",
       "      <td>SP</td>\n",
       "    </tr>\n",
       "    <tr>\n",
       "      <th>1</th>\n",
       "      <td>18955e83d337fd6b2def6b18a428ac77</td>\n",
       "      <td>290c77bc529b7ac935b93aa66c333dc3</td>\n",
       "      <td>9790</td>\n",
       "      <td>sao bernardo do campo</td>\n",
       "      <td>SP</td>\n",
       "    </tr>\n",
       "    <tr>\n",
       "      <th>2</th>\n",
       "      <td>4e7b3e00288586ebd08712fdd0374a03</td>\n",
       "      <td>060e732b5b29e8181a18229c7b0b2b5e</td>\n",
       "      <td>1151</td>\n",
       "      <td>sao paulo</td>\n",
       "      <td>SP</td>\n",
       "    </tr>\n",
       "    <tr>\n",
       "      <th>3</th>\n",
       "      <td>b2b6027bc5c5109e529d4dc6358b12c3</td>\n",
       "      <td>259dac757896d24d7702b9acbbff3f3c</td>\n",
       "      <td>8775</td>\n",
       "      <td>mogi das cruzes</td>\n",
       "      <td>SP</td>\n",
       "    </tr>\n",
       "    <tr>\n",
       "      <th>4</th>\n",
       "      <td>4f2d8ab171c80ec8364f7c12e35b23ad</td>\n",
       "      <td>345ecd01c38d18a9036ed96c73b8d066</td>\n",
       "      <td>13056</td>\n",
       "      <td>campinas</td>\n",
       "      <td>SP</td>\n",
       "    </tr>\n",
       "  </tbody>\n",
       "</table>\n",
       "</div>"
      ],
      "text/plain": [
       "                        customer_id                customer_unique_id  \\\n",
       "0  06b8999e2fba1a1fbc88172c00ba8bc7  861eff4711a542e4b93843c6dd7febb0   \n",
       "1  18955e83d337fd6b2def6b18a428ac77  290c77bc529b7ac935b93aa66c333dc3   \n",
       "2  4e7b3e00288586ebd08712fdd0374a03  060e732b5b29e8181a18229c7b0b2b5e   \n",
       "3  b2b6027bc5c5109e529d4dc6358b12c3  259dac757896d24d7702b9acbbff3f3c   \n",
       "4  4f2d8ab171c80ec8364f7c12e35b23ad  345ecd01c38d18a9036ed96c73b8d066   \n",
       "\n",
       "   zip_code          customer_city customer_state  \n",
       "0     14409                 franca             SP  \n",
       "1      9790  sao bernardo do campo             SP  \n",
       "2      1151              sao paulo             SP  \n",
       "3      8775        mogi das cruzes             SP  \n",
       "4     13056               campinas             SP  "
      ]
     },
     "execution_count": 12,
     "metadata": {},
     "output_type": "execute_result"
    }
   ],
   "source": [
    "customers_df.head()"
   ]
  },
  {
   "cell_type": "markdown",
   "id": "5facbf25",
   "metadata": {},
   "source": [
    "### Aqui vamos buscar as colunas para verificar as em comuns e fazer um \"merge\""
   ]
  },
  {
   "cell_type": "code",
   "execution_count": 13,
   "id": "900ca50c",
   "metadata": {},
   "outputs": [
    {
     "name": "stdout",
     "output_type": "stream",
     "text": [
      "customers_df:\n",
      "\n"
     ]
    },
    {
     "data": {
      "text/plain": [
       "Index(['customer_id', 'customer_unique_id', 'zip_code', 'customer_city',\n",
       "       'customer_state'],\n",
       "      dtype='object')"
      ]
     },
     "metadata": {},
     "output_type": "display_data"
    },
    {
     "name": "stdout",
     "output_type": "stream",
     "text": [
      "\n",
      "geo_df:\n",
      "\n"
     ]
    },
    {
     "data": {
      "text/plain": [
       "Index(['zip_code', 'geolocation_lat', 'geolocation_lng', 'geolocation_city',\n",
       "       'geolocation_state'],\n",
       "      dtype='object')"
      ]
     },
     "metadata": {},
     "output_type": "display_data"
    },
    {
     "name": "stdout",
     "output_type": "stream",
     "text": [
      "\n",
      "orderitem_df:\n",
      "\n"
     ]
    },
    {
     "data": {
      "text/plain": [
       "Index(['order_id', 'order_item_id', 'product_id', 'seller_id',\n",
       "       'shipping_limit_date', 'price', 'freight_value'],\n",
       "      dtype='object')"
      ]
     },
     "metadata": {},
     "output_type": "display_data"
    },
    {
     "name": "stdout",
     "output_type": "stream",
     "text": [
      "\n",
      "orderpay_df:\n",
      "\n"
     ]
    },
    {
     "data": {
      "text/plain": [
       "Index(['order_id', 'payment_sequential', 'payment_type',\n",
       "       'payment_installments', 'payment_value'],\n",
       "      dtype='object')"
      ]
     },
     "metadata": {},
     "output_type": "display_data"
    },
    {
     "name": "stdout",
     "output_type": "stream",
     "text": [
      "\n",
      "orderreviews_df:\n",
      "\n"
     ]
    },
    {
     "data": {
      "text/plain": [
       "Index(['review_id', 'order_id', 'review_score', 'review_comment_title',\n",
       "       'review_comment_message', 'review_creation_date',\n",
       "       'review_answer_timestamp'],\n",
       "      dtype='object')"
      ]
     },
     "metadata": {},
     "output_type": "display_data"
    },
    {
     "name": "stdout",
     "output_type": "stream",
     "text": [
      "\n",
      "orders_df:\n",
      "\n"
     ]
    },
    {
     "data": {
      "text/plain": [
       "Index(['order_id', 'customer_id', 'order_status', 'order_purchase_timestamp',\n",
       "       'order_approved_at', 'order_delivered_carrier_date',\n",
       "       'order_delivered_customer_date', 'order_estimated_delivery_date'],\n",
       "      dtype='object')"
      ]
     },
     "metadata": {},
     "output_type": "display_data"
    },
    {
     "name": "stdout",
     "output_type": "stream",
     "text": [
      "\n",
      "products_df:\n",
      "\n"
     ]
    },
    {
     "data": {
      "text/plain": [
       "Index(['product_id', 'product_category_name', 'product_name_lenght',\n",
       "       'product_description_lenght', 'product_photos_qty', 'product_weight_g',\n",
       "       'product_length_cm', 'product_height_cm', 'product_width_cm'],\n",
       "      dtype='object')"
      ]
     },
     "metadata": {},
     "output_type": "display_data"
    },
    {
     "name": "stdout",
     "output_type": "stream",
     "text": [
      "\n",
      "sellers_df:\n",
      "\n"
     ]
    },
    {
     "data": {
      "text/plain": [
       "Index(['seller_id', 'seller_zip_code_prefix', 'seller_city', 'seller_state'], dtype='object')"
      ]
     },
     "metadata": {},
     "output_type": "display_data"
    },
    {
     "name": "stdout",
     "output_type": "stream",
     "text": [
      "\n",
      "categname_df:\n",
      "\n"
     ]
    },
    {
     "data": {
      "text/plain": [
       "Index(['product_category_name', 'product_category_name_english'], dtype='object')"
      ]
     },
     "metadata": {},
     "output_type": "display_data"
    }
   ],
   "source": [
    "#  imprimir colunas dos dataset\n",
    "\n",
    "print(\"customers_df:\\n\")\n",
    "display(customers_df.columns)\n",
    "\n",
    "print(\"\\ngeo_df:\\n\")\n",
    "display(geo_df.columns)\n",
    "\n",
    "print(\"\\norderitem_df:\\n\")\n",
    "display(orderitem_df.columns)\n",
    "\n",
    "print(\"\\norderpay_df:\\n\")\n",
    "display(orderpay_df.columns)\n",
    "\n",
    "print(\"\\norderreviews_df:\\n\")\n",
    "display(orderreviews_df.columns)\n",
    "\n",
    "print(\"\\norders_df:\\n\")\n",
    "display(orders_df.columns)\n",
    "\n",
    "print(\"\\nproducts_df:\\n\")\n",
    "display(products_df.columns)\n",
    "\n",
    "print(\"\\nsellers_df:\\n\")\n",
    "display(sellers_df.columns)\n",
    "\n",
    "print(\"\\ncategname_df:\\n\")\n",
    "display(categname_df.columns)"
   ]
  },
  {
   "cell_type": "markdown",
   "id": "f0db8014",
   "metadata": {
    "id": "f0db8014"
   },
   "source": [
    "<h2 style=\"color: #6c5b7b\">Fazendo um merge dos dataframes!</h2>\n",
    "\n",
    "Este trecho de código combina os DataFrames `orders_df`, `customers_df`, `orderitem_df`, `products_df`, `categname_df`, `orderpay_df`, `sellers_df` e `orderreviews_df`, usando o método `merge()` da biblioteca `pandas`. Cada DataFrame é combinado com o próximo usando uma coluna em comum como chave de junção. \n",
    "\n",
    "O resultado da combinação é salvo em um novo DataFrame chamado `dados_completos`. Ao final dessa operação, o DataFrame `dados_completos` contém informações sobre os pedidos, clientes, itens do pedido, produtos, categorias de produtos, pagamentos, vendedores e avaliações de pedidos.\n",
    "\n",
    "Esse processo de combinar vários DataFrames em um só é útil para consolidar dados dispersos em um único lugar e facilitar a análise dos dados.\n"
   ]
  },
  {
   "cell_type": "code",
   "execution_count": 14,
   "id": "a4826d8e",
   "metadata": {
    "execution": {
     "iopub.execute_input": "2022-07-20T18:10:27.772428Z",
     "iopub.status.busy": "2022-07-20T18:10:27.772029Z",
     "iopub.status.idle": "2022-07-20T18:10:28.790717Z",
     "shell.execute_reply": "2022-07-20T18:10:28.789512Z"
    },
    "id": "a4826d8e",
    "papermill": {
     "duration": 1.044394,
     "end_time": "2022-07-20T18:10:28.793654",
     "exception": false,
     "start_time": "2022-07-20T18:10:27.749260",
     "status": "completed"
    },
    "tags": []
   },
   "outputs": [],
   "source": [
    "# Fazendo um \"merge\" juntando todos os dataframes para melhor análisar\n",
    "data = orders_df.merge(customers_df, on=\"customer_id\").merge(orderitem_df, on=\"order_id\").merge(products_df, on=\"product_id\").merge(categname_df, on=\"product_category_name\").merge(orderpay_df, on=\"order_id\").merge(sellers_df, on=\"seller_id\").merge(orderreviews_df, on=\"order_id\")"
   ]
  },
  {
   "cell_type": "code",
   "execution_count": 15,
   "id": "c0597e51",
   "metadata": {
    "execution": {
     "iopub.execute_input": "2022-07-20T18:10:28.837259Z",
     "iopub.status.busy": "2022-07-20T18:10:28.836834Z",
     "iopub.status.idle": "2022-07-20T18:10:28.883850Z",
     "shell.execute_reply": "2022-07-20T18:10:28.882354Z"
    },
    "id": "c0597e51",
    "outputId": "873252f5-278a-4415-b3fc-e1bb50e6d428",
    "papermill": {
     "duration": 0.072099,
     "end_time": "2022-07-20T18:10:28.886587",
     "exception": false,
     "start_time": "2022-07-20T18:10:28.814488",
     "status": "completed"
    },
    "scrolled": true,
    "tags": []
   },
   "outputs": [
    {
     "data": {
      "text/html": [
       "<div>\n",
       "<style scoped>\n",
       "    .dataframe tbody tr th:only-of-type {\n",
       "        vertical-align: middle;\n",
       "    }\n",
       "\n",
       "    .dataframe tbody tr th {\n",
       "        vertical-align: top;\n",
       "    }\n",
       "\n",
       "    .dataframe thead th {\n",
       "        text-align: right;\n",
       "    }\n",
       "</style>\n",
       "<table border=\"1\" class=\"dataframe\">\n",
       "  <thead>\n",
       "    <tr style=\"text-align: right;\">\n",
       "      <th></th>\n",
       "      <th>order_id</th>\n",
       "      <th>customer_id</th>\n",
       "      <th>order_status</th>\n",
       "      <th>order_purchase_timestamp</th>\n",
       "      <th>order_approved_at</th>\n",
       "      <th>order_delivered_carrier_date</th>\n",
       "      <th>order_delivered_customer_date</th>\n",
       "      <th>order_estimated_delivery_date</th>\n",
       "      <th>customer_unique_id</th>\n",
       "      <th>zip_code</th>\n",
       "      <th>customer_city</th>\n",
       "      <th>customer_state</th>\n",
       "      <th>order_item_id</th>\n",
       "      <th>product_id</th>\n",
       "      <th>seller_id</th>\n",
       "      <th>shipping_limit_date</th>\n",
       "      <th>price</th>\n",
       "      <th>freight_value</th>\n",
       "      <th>product_category_name</th>\n",
       "      <th>product_name_lenght</th>\n",
       "      <th>product_description_lenght</th>\n",
       "      <th>product_photos_qty</th>\n",
       "      <th>product_weight_g</th>\n",
       "      <th>product_length_cm</th>\n",
       "      <th>product_height_cm</th>\n",
       "      <th>product_width_cm</th>\n",
       "      <th>product_category_name_english</th>\n",
       "      <th>payment_sequential</th>\n",
       "      <th>payment_type</th>\n",
       "      <th>payment_installments</th>\n",
       "      <th>payment_value</th>\n",
       "      <th>seller_zip_code_prefix</th>\n",
       "      <th>seller_city</th>\n",
       "      <th>seller_state</th>\n",
       "      <th>review_id</th>\n",
       "      <th>review_score</th>\n",
       "      <th>review_comment_title</th>\n",
       "      <th>review_comment_message</th>\n",
       "      <th>review_creation_date</th>\n",
       "      <th>review_answer_timestamp</th>\n",
       "    </tr>\n",
       "  </thead>\n",
       "  <tbody>\n",
       "    <tr>\n",
       "      <th>0</th>\n",
       "      <td>e481f51cbdc54678b7cc49136f2d6af7</td>\n",
       "      <td>9ef432eb6251297304e76186b10a928d</td>\n",
       "      <td>delivered</td>\n",
       "      <td>2017-10-02 10:56:33</td>\n",
       "      <td>2017-10-02 11:07:15</td>\n",
       "      <td>2017-10-04 19:55:00</td>\n",
       "      <td>2017-10-10 21:25:13</td>\n",
       "      <td>2017-10-18 00:00:00</td>\n",
       "      <td>7c396fd4830fd04220f754e42b4e5bff</td>\n",
       "      <td>3149</td>\n",
       "      <td>sao paulo</td>\n",
       "      <td>SP</td>\n",
       "      <td>1</td>\n",
       "      <td>87285b34884572647811a353c7ac498a</td>\n",
       "      <td>3504c0cb71d7fa48d967e0e4c94d59d9</td>\n",
       "      <td>2017-10-06 11:07:15</td>\n",
       "      <td>29.99</td>\n",
       "      <td>8.72</td>\n",
       "      <td>utilidades_domesticas</td>\n",
       "      <td>40.0</td>\n",
       "      <td>268.0</td>\n",
       "      <td>4.0</td>\n",
       "      <td>500.0</td>\n",
       "      <td>19.0</td>\n",
       "      <td>8.0</td>\n",
       "      <td>13.0</td>\n",
       "      <td>housewares</td>\n",
       "      <td>1</td>\n",
       "      <td>credit_card</td>\n",
       "      <td>1</td>\n",
       "      <td>18.12</td>\n",
       "      <td>9350</td>\n",
       "      <td>maua</td>\n",
       "      <td>SP</td>\n",
       "      <td>a54f0611adc9ed256b57ede6b6eb5114</td>\n",
       "      <td>4</td>\n",
       "      <td>NaN</td>\n",
       "      <td>Não testei o produto ainda, mas ele veio corre...</td>\n",
       "      <td>2017-10-11 00:00:00</td>\n",
       "      <td>2017-10-12 03:43:48</td>\n",
       "    </tr>\n",
       "    <tr>\n",
       "      <th>1</th>\n",
       "      <td>e481f51cbdc54678b7cc49136f2d6af7</td>\n",
       "      <td>9ef432eb6251297304e76186b10a928d</td>\n",
       "      <td>delivered</td>\n",
       "      <td>2017-10-02 10:56:33</td>\n",
       "      <td>2017-10-02 11:07:15</td>\n",
       "      <td>2017-10-04 19:55:00</td>\n",
       "      <td>2017-10-10 21:25:13</td>\n",
       "      <td>2017-10-18 00:00:00</td>\n",
       "      <td>7c396fd4830fd04220f754e42b4e5bff</td>\n",
       "      <td>3149</td>\n",
       "      <td>sao paulo</td>\n",
       "      <td>SP</td>\n",
       "      <td>1</td>\n",
       "      <td>87285b34884572647811a353c7ac498a</td>\n",
       "      <td>3504c0cb71d7fa48d967e0e4c94d59d9</td>\n",
       "      <td>2017-10-06 11:07:15</td>\n",
       "      <td>29.99</td>\n",
       "      <td>8.72</td>\n",
       "      <td>utilidades_domesticas</td>\n",
       "      <td>40.0</td>\n",
       "      <td>268.0</td>\n",
       "      <td>4.0</td>\n",
       "      <td>500.0</td>\n",
       "      <td>19.0</td>\n",
       "      <td>8.0</td>\n",
       "      <td>13.0</td>\n",
       "      <td>housewares</td>\n",
       "      <td>3</td>\n",
       "      <td>voucher</td>\n",
       "      <td>1</td>\n",
       "      <td>2.00</td>\n",
       "      <td>9350</td>\n",
       "      <td>maua</td>\n",
       "      <td>SP</td>\n",
       "      <td>a54f0611adc9ed256b57ede6b6eb5114</td>\n",
       "      <td>4</td>\n",
       "      <td>NaN</td>\n",
       "      <td>Não testei o produto ainda, mas ele veio corre...</td>\n",
       "      <td>2017-10-11 00:00:00</td>\n",
       "      <td>2017-10-12 03:43:48</td>\n",
       "    </tr>\n",
       "    <tr>\n",
       "      <th>2</th>\n",
       "      <td>e481f51cbdc54678b7cc49136f2d6af7</td>\n",
       "      <td>9ef432eb6251297304e76186b10a928d</td>\n",
       "      <td>delivered</td>\n",
       "      <td>2017-10-02 10:56:33</td>\n",
       "      <td>2017-10-02 11:07:15</td>\n",
       "      <td>2017-10-04 19:55:00</td>\n",
       "      <td>2017-10-10 21:25:13</td>\n",
       "      <td>2017-10-18 00:00:00</td>\n",
       "      <td>7c396fd4830fd04220f754e42b4e5bff</td>\n",
       "      <td>3149</td>\n",
       "      <td>sao paulo</td>\n",
       "      <td>SP</td>\n",
       "      <td>1</td>\n",
       "      <td>87285b34884572647811a353c7ac498a</td>\n",
       "      <td>3504c0cb71d7fa48d967e0e4c94d59d9</td>\n",
       "      <td>2017-10-06 11:07:15</td>\n",
       "      <td>29.99</td>\n",
       "      <td>8.72</td>\n",
       "      <td>utilidades_domesticas</td>\n",
       "      <td>40.0</td>\n",
       "      <td>268.0</td>\n",
       "      <td>4.0</td>\n",
       "      <td>500.0</td>\n",
       "      <td>19.0</td>\n",
       "      <td>8.0</td>\n",
       "      <td>13.0</td>\n",
       "      <td>housewares</td>\n",
       "      <td>2</td>\n",
       "      <td>voucher</td>\n",
       "      <td>1</td>\n",
       "      <td>18.59</td>\n",
       "      <td>9350</td>\n",
       "      <td>maua</td>\n",
       "      <td>SP</td>\n",
       "      <td>a54f0611adc9ed256b57ede6b6eb5114</td>\n",
       "      <td>4</td>\n",
       "      <td>NaN</td>\n",
       "      <td>Não testei o produto ainda, mas ele veio corre...</td>\n",
       "      <td>2017-10-11 00:00:00</td>\n",
       "      <td>2017-10-12 03:43:48</td>\n",
       "    </tr>\n",
       "    <tr>\n",
       "      <th>3</th>\n",
       "      <td>128e10d95713541c87cd1a2e48201934</td>\n",
       "      <td>a20e8105f23924cd00833fd87daa0831</td>\n",
       "      <td>delivered</td>\n",
       "      <td>2017-08-15 18:29:31</td>\n",
       "      <td>2017-08-15 20:05:16</td>\n",
       "      <td>2017-08-17 15:28:33</td>\n",
       "      <td>2017-08-18 14:44:43</td>\n",
       "      <td>2017-08-28 00:00:00</td>\n",
       "      <td>3a51803cc0d012c3b5dc8b7528cb05f7</td>\n",
       "      <td>3366</td>\n",
       "      <td>sao paulo</td>\n",
       "      <td>SP</td>\n",
       "      <td>1</td>\n",
       "      <td>87285b34884572647811a353c7ac498a</td>\n",
       "      <td>3504c0cb71d7fa48d967e0e4c94d59d9</td>\n",
       "      <td>2017-08-21 20:05:16</td>\n",
       "      <td>29.99</td>\n",
       "      <td>7.78</td>\n",
       "      <td>utilidades_domesticas</td>\n",
       "      <td>40.0</td>\n",
       "      <td>268.0</td>\n",
       "      <td>4.0</td>\n",
       "      <td>500.0</td>\n",
       "      <td>19.0</td>\n",
       "      <td>8.0</td>\n",
       "      <td>13.0</td>\n",
       "      <td>housewares</td>\n",
       "      <td>1</td>\n",
       "      <td>credit_card</td>\n",
       "      <td>3</td>\n",
       "      <td>37.77</td>\n",
       "      <td>9350</td>\n",
       "      <td>maua</td>\n",
       "      <td>SP</td>\n",
       "      <td>b46f1e34512b0f4c74a72398b03ca788</td>\n",
       "      <td>4</td>\n",
       "      <td>NaN</td>\n",
       "      <td>Deveriam embalar melhor o produto. A caixa vei...</td>\n",
       "      <td>2017-08-19 00:00:00</td>\n",
       "      <td>2017-08-20 15:16:36</td>\n",
       "    </tr>\n",
       "    <tr>\n",
       "      <th>4</th>\n",
       "      <td>0e7e841ddf8f8f2de2bad69267ecfbcf</td>\n",
       "      <td>26c7ac168e1433912a51b924fbd34d34</td>\n",
       "      <td>delivered</td>\n",
       "      <td>2017-08-02 18:24:47</td>\n",
       "      <td>2017-08-02 18:43:15</td>\n",
       "      <td>2017-08-04 17:35:43</td>\n",
       "      <td>2017-08-07 18:30:01</td>\n",
       "      <td>2017-08-15 00:00:00</td>\n",
       "      <td>ef0996a1a279c26e7ecbd737be23d235</td>\n",
       "      <td>2290</td>\n",
       "      <td>sao paulo</td>\n",
       "      <td>SP</td>\n",
       "      <td>1</td>\n",
       "      <td>87285b34884572647811a353c7ac498a</td>\n",
       "      <td>3504c0cb71d7fa48d967e0e4c94d59d9</td>\n",
       "      <td>2017-08-08 18:37:31</td>\n",
       "      <td>29.99</td>\n",
       "      <td>7.78</td>\n",
       "      <td>utilidades_domesticas</td>\n",
       "      <td>40.0</td>\n",
       "      <td>268.0</td>\n",
       "      <td>4.0</td>\n",
       "      <td>500.0</td>\n",
       "      <td>19.0</td>\n",
       "      <td>8.0</td>\n",
       "      <td>13.0</td>\n",
       "      <td>housewares</td>\n",
       "      <td>1</td>\n",
       "      <td>credit_card</td>\n",
       "      <td>1</td>\n",
       "      <td>37.77</td>\n",
       "      <td>9350</td>\n",
       "      <td>maua</td>\n",
       "      <td>SP</td>\n",
       "      <td>dc90f19c2806f1abba9e72ad3c350073</td>\n",
       "      <td>5</td>\n",
       "      <td>NaN</td>\n",
       "      <td>Só achei ela pequena pra seis xícaras ,mais é ...</td>\n",
       "      <td>2017-08-08 00:00:00</td>\n",
       "      <td>2017-08-08 23:26:23</td>\n",
       "    </tr>\n",
       "  </tbody>\n",
       "</table>\n",
       "</div>"
      ],
      "text/plain": [
       "                           order_id                       customer_id  \\\n",
       "0  e481f51cbdc54678b7cc49136f2d6af7  9ef432eb6251297304e76186b10a928d   \n",
       "1  e481f51cbdc54678b7cc49136f2d6af7  9ef432eb6251297304e76186b10a928d   \n",
       "2  e481f51cbdc54678b7cc49136f2d6af7  9ef432eb6251297304e76186b10a928d   \n",
       "3  128e10d95713541c87cd1a2e48201934  a20e8105f23924cd00833fd87daa0831   \n",
       "4  0e7e841ddf8f8f2de2bad69267ecfbcf  26c7ac168e1433912a51b924fbd34d34   \n",
       "\n",
       "  order_status order_purchase_timestamp    order_approved_at  \\\n",
       "0    delivered      2017-10-02 10:56:33  2017-10-02 11:07:15   \n",
       "1    delivered      2017-10-02 10:56:33  2017-10-02 11:07:15   \n",
       "2    delivered      2017-10-02 10:56:33  2017-10-02 11:07:15   \n",
       "3    delivered      2017-08-15 18:29:31  2017-08-15 20:05:16   \n",
       "4    delivered      2017-08-02 18:24:47  2017-08-02 18:43:15   \n",
       "\n",
       "  order_delivered_carrier_date order_delivered_customer_date  \\\n",
       "0          2017-10-04 19:55:00           2017-10-10 21:25:13   \n",
       "1          2017-10-04 19:55:00           2017-10-10 21:25:13   \n",
       "2          2017-10-04 19:55:00           2017-10-10 21:25:13   \n",
       "3          2017-08-17 15:28:33           2017-08-18 14:44:43   \n",
       "4          2017-08-04 17:35:43           2017-08-07 18:30:01   \n",
       "\n",
       "  order_estimated_delivery_date                customer_unique_id  zip_code  \\\n",
       "0           2017-10-18 00:00:00  7c396fd4830fd04220f754e42b4e5bff      3149   \n",
       "1           2017-10-18 00:00:00  7c396fd4830fd04220f754e42b4e5bff      3149   \n",
       "2           2017-10-18 00:00:00  7c396fd4830fd04220f754e42b4e5bff      3149   \n",
       "3           2017-08-28 00:00:00  3a51803cc0d012c3b5dc8b7528cb05f7      3366   \n",
       "4           2017-08-15 00:00:00  ef0996a1a279c26e7ecbd737be23d235      2290   \n",
       "\n",
       "  customer_city customer_state  order_item_id  \\\n",
       "0     sao paulo             SP              1   \n",
       "1     sao paulo             SP              1   \n",
       "2     sao paulo             SP              1   \n",
       "3     sao paulo             SP              1   \n",
       "4     sao paulo             SP              1   \n",
       "\n",
       "                         product_id                         seller_id  \\\n",
       "0  87285b34884572647811a353c7ac498a  3504c0cb71d7fa48d967e0e4c94d59d9   \n",
       "1  87285b34884572647811a353c7ac498a  3504c0cb71d7fa48d967e0e4c94d59d9   \n",
       "2  87285b34884572647811a353c7ac498a  3504c0cb71d7fa48d967e0e4c94d59d9   \n",
       "3  87285b34884572647811a353c7ac498a  3504c0cb71d7fa48d967e0e4c94d59d9   \n",
       "4  87285b34884572647811a353c7ac498a  3504c0cb71d7fa48d967e0e4c94d59d9   \n",
       "\n",
       "   shipping_limit_date  price  freight_value  product_category_name  \\\n",
       "0  2017-10-06 11:07:15  29.99           8.72  utilidades_domesticas   \n",
       "1  2017-10-06 11:07:15  29.99           8.72  utilidades_domesticas   \n",
       "2  2017-10-06 11:07:15  29.99           8.72  utilidades_domesticas   \n",
       "3  2017-08-21 20:05:16  29.99           7.78  utilidades_domesticas   \n",
       "4  2017-08-08 18:37:31  29.99           7.78  utilidades_domesticas   \n",
       "\n",
       "   product_name_lenght  product_description_lenght  product_photos_qty  \\\n",
       "0                 40.0                       268.0                 4.0   \n",
       "1                 40.0                       268.0                 4.0   \n",
       "2                 40.0                       268.0                 4.0   \n",
       "3                 40.0                       268.0                 4.0   \n",
       "4                 40.0                       268.0                 4.0   \n",
       "\n",
       "   product_weight_g  product_length_cm  product_height_cm  product_width_cm  \\\n",
       "0             500.0               19.0                8.0              13.0   \n",
       "1             500.0               19.0                8.0              13.0   \n",
       "2             500.0               19.0                8.0              13.0   \n",
       "3             500.0               19.0                8.0              13.0   \n",
       "4             500.0               19.0                8.0              13.0   \n",
       "\n",
       "  product_category_name_english  payment_sequential payment_type  \\\n",
       "0                    housewares                   1  credit_card   \n",
       "1                    housewares                   3      voucher   \n",
       "2                    housewares                   2      voucher   \n",
       "3                    housewares                   1  credit_card   \n",
       "4                    housewares                   1  credit_card   \n",
       "\n",
       "   payment_installments  payment_value  seller_zip_code_prefix seller_city  \\\n",
       "0                     1          18.12                    9350        maua   \n",
       "1                     1           2.00                    9350        maua   \n",
       "2                     1          18.59                    9350        maua   \n",
       "3                     3          37.77                    9350        maua   \n",
       "4                     1          37.77                    9350        maua   \n",
       "\n",
       "  seller_state                         review_id  review_score  \\\n",
       "0           SP  a54f0611adc9ed256b57ede6b6eb5114             4   \n",
       "1           SP  a54f0611adc9ed256b57ede6b6eb5114             4   \n",
       "2           SP  a54f0611adc9ed256b57ede6b6eb5114             4   \n",
       "3           SP  b46f1e34512b0f4c74a72398b03ca788             4   \n",
       "4           SP  dc90f19c2806f1abba9e72ad3c350073             5   \n",
       "\n",
       "  review_comment_title                             review_comment_message  \\\n",
       "0                  NaN  Não testei o produto ainda, mas ele veio corre...   \n",
       "1                  NaN  Não testei o produto ainda, mas ele veio corre...   \n",
       "2                  NaN  Não testei o produto ainda, mas ele veio corre...   \n",
       "3                  NaN  Deveriam embalar melhor o produto. A caixa vei...   \n",
       "4                  NaN  Só achei ela pequena pra seis xícaras ,mais é ...   \n",
       "\n",
       "  review_creation_date review_answer_timestamp  \n",
       "0  2017-10-11 00:00:00     2017-10-12 03:43:48  \n",
       "1  2017-10-11 00:00:00     2017-10-12 03:43:48  \n",
       "2  2017-10-11 00:00:00     2017-10-12 03:43:48  \n",
       "3  2017-08-19 00:00:00     2017-08-20 15:16:36  \n",
       "4  2017-08-08 00:00:00     2017-08-08 23:26:23  "
      ]
     },
     "execution_count": 15,
     "metadata": {},
     "output_type": "execute_result"
    }
   ],
   "source": [
    "# lendo o dataframe completo\n",
    "data.head()"
   ]
  },
  {
   "cell_type": "code",
   "execution_count": 16,
   "id": "5abae91c",
   "metadata": {},
   "outputs": [
    {
     "data": {
      "text/plain": [
       "(115609, 40)"
      ]
     },
     "execution_count": 16,
     "metadata": {},
     "output_type": "execute_result"
    }
   ],
   "source": [
    "#  buscando o shape dos dados\n",
    "data.shape"
   ]
  },
  {
   "cell_type": "code",
   "execution_count": 17,
   "id": "2edd9030",
   "metadata": {},
   "outputs": [
    {
     "data": {
      "text/plain": [
       "19093"
      ]
     },
     "execution_count": 17,
     "metadata": {},
     "output_type": "execute_result"
    }
   ],
   "source": [
    "#   temos dados duplicados\n",
    "data['order_id'].duplicated().sum()\n"
   ]
  },
  {
   "cell_type": "markdown",
   "id": "b1f4ff7a",
   "metadata": {
    "id": "b1f4ff7a",
    "papermill": {
     "duration": 0.020766,
     "end_time": "2022-07-20T18:10:28.929007",
     "exception": false,
     "start_time": "2022-07-20T18:10:28.908241",
     "status": "completed"
    },
    "tags": []
   },
   "source": [
    "Temos ids de pedidos duplicados. Isso se deve ao fato de que o mesmo pedido pode ser pago com vários métodos de pagamento diferentes."
   ]
  },
  {
   "cell_type": "code",
   "execution_count": 18,
   "id": "3eb92b5e",
   "metadata": {},
   "outputs": [
    {
     "data": {
      "text/plain": [
       "review_comment_title             88.062348\n",
       "review_comment_message           57.697065\n",
       "order_delivered_customer_date     2.075963\n",
       "order_delivered_carrier_date      1.033657\n",
       "order_approved_at                 0.012110\n",
       "product_length_cm                 0.000865\n",
       "product_height_cm                 0.000865\n",
       "product_width_cm                  0.000865\n",
       "product_weight_g                  0.000865\n",
       "payment_installments              0.000000\n",
       "product_category_name_english     0.000000\n",
       "payment_sequential                0.000000\n",
       "payment_type                      0.000000\n",
       "order_id                          0.000000\n",
       "payment_value                     0.000000\n",
       "seller_zip_code_prefix            0.000000\n",
       "seller_city                       0.000000\n",
       "review_id                         0.000000\n",
       "review_score                      0.000000\n",
       "review_creation_date              0.000000\n",
       "seller_state                      0.000000\n",
       "product_description_lenght        0.000000\n",
       "product_photos_qty                0.000000\n",
       "customer_id                       0.000000\n",
       "order_status                      0.000000\n",
       "order_purchase_timestamp          0.000000\n",
       "order_estimated_delivery_date     0.000000\n",
       "customer_unique_id                0.000000\n",
       "zip_code                          0.000000\n",
       "customer_city                     0.000000\n",
       "customer_state                    0.000000\n",
       "order_item_id                     0.000000\n",
       "product_id                        0.000000\n",
       "seller_id                         0.000000\n",
       "shipping_limit_date               0.000000\n",
       "price                             0.000000\n",
       "freight_value                     0.000000\n",
       "product_category_name             0.000000\n",
       "product_name_lenght               0.000000\n",
       "review_answer_timestamp           0.000000\n",
       "dtype: float64"
      ]
     },
     "execution_count": 18,
     "metadata": {},
     "output_type": "execute_result"
    }
   ],
   "source": [
    "# verificando a o percentual de dados nulos\n",
    "data.isnull().mean().sort_values(ascending=False)*100"
   ]
  },
  {
   "cell_type": "markdown",
   "id": "62cd8455",
   "metadata": {},
   "source": [
    "### Acima verificamos que existem muitos dados nulos nos título e nas mensagens de opinião!"
   ]
  },
  {
   "cell_type": "code",
   "execution_count": 19,
   "id": "47394578",
   "metadata": {
    "execution": {
     "iopub.execute_input": "2022-07-20T18:10:29.367110Z",
     "iopub.status.busy": "2022-07-20T18:10:29.365986Z",
     "iopub.status.idle": "2022-07-20T18:10:29.632351Z",
     "shell.execute_reply": "2022-07-20T18:10:29.631232Z"
    },
    "id": "47394578",
    "outputId": "1fb74f85-d792-4dc1-9449-e3eb18d30795",
    "papermill": {
     "duration": 0.291635,
     "end_time": "2022-07-20T18:10:29.634779",
     "exception": false,
     "start_time": "2022-07-20T18:10:29.343144",
     "status": "completed"
    },
    "tags": []
   },
   "outputs": [
    {
     "data": {
      "text/html": [
       "<div>\n",
       "<style scoped>\n",
       "    .dataframe tbody tr th:only-of-type {\n",
       "        vertical-align: middle;\n",
       "    }\n",
       "\n",
       "    .dataframe tbody tr th {\n",
       "        vertical-align: top;\n",
       "    }\n",
       "\n",
       "    .dataframe thead th {\n",
       "        text-align: right;\n",
       "    }\n",
       "</style>\n",
       "<table border=\"1\" class=\"dataframe\">\n",
       "  <thead>\n",
       "    <tr style=\"text-align: right;\">\n",
       "      <th></th>\n",
       "      <th>zip_code</th>\n",
       "      <th>order_item_id</th>\n",
       "      <th>price</th>\n",
       "      <th>freight_value</th>\n",
       "      <th>product_name_lenght</th>\n",
       "      <th>product_description_lenght</th>\n",
       "      <th>product_photos_qty</th>\n",
       "      <th>product_weight_g</th>\n",
       "      <th>product_length_cm</th>\n",
       "      <th>product_height_cm</th>\n",
       "      <th>product_width_cm</th>\n",
       "      <th>payment_sequential</th>\n",
       "      <th>payment_installments</th>\n",
       "      <th>payment_value</th>\n",
       "      <th>seller_zip_code_prefix</th>\n",
       "      <th>review_score</th>\n",
       "    </tr>\n",
       "  </thead>\n",
       "  <tbody>\n",
       "    <tr>\n",
       "      <th>count</th>\n",
       "      <td>115609.000000</td>\n",
       "      <td>115609.000000</td>\n",
       "      <td>115609.000000</td>\n",
       "      <td>115609.000000</td>\n",
       "      <td>115609.000000</td>\n",
       "      <td>115609.000000</td>\n",
       "      <td>115609.000000</td>\n",
       "      <td>115608.000000</td>\n",
       "      <td>115608.000000</td>\n",
       "      <td>115608.000000</td>\n",
       "      <td>115608.000000</td>\n",
       "      <td>115609.000000</td>\n",
       "      <td>115609.000000</td>\n",
       "      <td>115609.000000</td>\n",
       "      <td>115609.000000</td>\n",
       "      <td>115609.000000</td>\n",
       "    </tr>\n",
       "    <tr>\n",
       "      <th>mean</th>\n",
       "      <td>35061.537597</td>\n",
       "      <td>1.194535</td>\n",
       "      <td>120.619850</td>\n",
       "      <td>20.056880</td>\n",
       "      <td>48.766541</td>\n",
       "      <td>785.808198</td>\n",
       "      <td>2.205373</td>\n",
       "      <td>2113.907697</td>\n",
       "      <td>30.307903</td>\n",
       "      <td>16.638477</td>\n",
       "      <td>23.113167</td>\n",
       "      <td>1.093747</td>\n",
       "      <td>2.946233</td>\n",
       "      <td>172.387379</td>\n",
       "      <td>24515.713958</td>\n",
       "      <td>4.034409</td>\n",
       "    </tr>\n",
       "    <tr>\n",
       "      <th>std</th>\n",
       "      <td>29841.671732</td>\n",
       "      <td>0.685926</td>\n",
       "      <td>182.653476</td>\n",
       "      <td>15.836184</td>\n",
       "      <td>10.034187</td>\n",
       "      <td>652.418619</td>\n",
       "      <td>1.717771</td>\n",
       "      <td>3781.754895</td>\n",
       "      <td>16.211108</td>\n",
       "      <td>13.473570</td>\n",
       "      <td>11.755083</td>\n",
       "      <td>0.729849</td>\n",
       "      <td>2.781087</td>\n",
       "      <td>265.873969</td>\n",
       "      <td>27636.640968</td>\n",
       "      <td>1.385584</td>\n",
       "    </tr>\n",
       "    <tr>\n",
       "      <th>min</th>\n",
       "      <td>1003.000000</td>\n",
       "      <td>1.000000</td>\n",
       "      <td>0.850000</td>\n",
       "      <td>0.000000</td>\n",
       "      <td>5.000000</td>\n",
       "      <td>4.000000</td>\n",
       "      <td>1.000000</td>\n",
       "      <td>0.000000</td>\n",
       "      <td>7.000000</td>\n",
       "      <td>2.000000</td>\n",
       "      <td>6.000000</td>\n",
       "      <td>1.000000</td>\n",
       "      <td>0.000000</td>\n",
       "      <td>0.000000</td>\n",
       "      <td>1001.000000</td>\n",
       "      <td>1.000000</td>\n",
       "    </tr>\n",
       "    <tr>\n",
       "      <th>25%</th>\n",
       "      <td>11310.000000</td>\n",
       "      <td>1.000000</td>\n",
       "      <td>39.900000</td>\n",
       "      <td>13.080000</td>\n",
       "      <td>42.000000</td>\n",
       "      <td>346.000000</td>\n",
       "      <td>1.000000</td>\n",
       "      <td>300.000000</td>\n",
       "      <td>18.000000</td>\n",
       "      <td>8.000000</td>\n",
       "      <td>15.000000</td>\n",
       "      <td>1.000000</td>\n",
       "      <td>1.000000</td>\n",
       "      <td>60.870000</td>\n",
       "      <td>6429.000000</td>\n",
       "      <td>4.000000</td>\n",
       "    </tr>\n",
       "    <tr>\n",
       "      <th>50%</th>\n",
       "      <td>24241.000000</td>\n",
       "      <td>1.000000</td>\n",
       "      <td>74.900000</td>\n",
       "      <td>16.320000</td>\n",
       "      <td>52.000000</td>\n",
       "      <td>600.000000</td>\n",
       "      <td>1.000000</td>\n",
       "      <td>700.000000</td>\n",
       "      <td>25.000000</td>\n",
       "      <td>13.000000</td>\n",
       "      <td>20.000000</td>\n",
       "      <td>1.000000</td>\n",
       "      <td>2.000000</td>\n",
       "      <td>108.050000</td>\n",
       "      <td>13660.000000</td>\n",
       "      <td>5.000000</td>\n",
       "    </tr>\n",
       "    <tr>\n",
       "      <th>75%</th>\n",
       "      <td>58745.000000</td>\n",
       "      <td>1.000000</td>\n",
       "      <td>134.900000</td>\n",
       "      <td>21.210000</td>\n",
       "      <td>57.000000</td>\n",
       "      <td>983.000000</td>\n",
       "      <td>3.000000</td>\n",
       "      <td>1800.000000</td>\n",
       "      <td>38.000000</td>\n",
       "      <td>20.000000</td>\n",
       "      <td>30.000000</td>\n",
       "      <td>1.000000</td>\n",
       "      <td>4.000000</td>\n",
       "      <td>189.480000</td>\n",
       "      <td>28605.000000</td>\n",
       "      <td>5.000000</td>\n",
       "    </tr>\n",
       "    <tr>\n",
       "      <th>max</th>\n",
       "      <td>99980.000000</td>\n",
       "      <td>21.000000</td>\n",
       "      <td>6735.000000</td>\n",
       "      <td>409.680000</td>\n",
       "      <td>76.000000</td>\n",
       "      <td>3992.000000</td>\n",
       "      <td>20.000000</td>\n",
       "      <td>40425.000000</td>\n",
       "      <td>105.000000</td>\n",
       "      <td>105.000000</td>\n",
       "      <td>118.000000</td>\n",
       "      <td>29.000000</td>\n",
       "      <td>24.000000</td>\n",
       "      <td>13664.080000</td>\n",
       "      <td>99730.000000</td>\n",
       "      <td>5.000000</td>\n",
       "    </tr>\n",
       "  </tbody>\n",
       "</table>\n",
       "</div>"
      ],
      "text/plain": [
       "            zip_code  order_item_id          price  freight_value  \\\n",
       "count  115609.000000  115609.000000  115609.000000  115609.000000   \n",
       "mean    35061.537597       1.194535     120.619850      20.056880   \n",
       "std     29841.671732       0.685926     182.653476      15.836184   \n",
       "min      1003.000000       1.000000       0.850000       0.000000   \n",
       "25%     11310.000000       1.000000      39.900000      13.080000   \n",
       "50%     24241.000000       1.000000      74.900000      16.320000   \n",
       "75%     58745.000000       1.000000     134.900000      21.210000   \n",
       "max     99980.000000      21.000000    6735.000000     409.680000   \n",
       "\n",
       "       product_name_lenght  product_description_lenght  product_photos_qty  \\\n",
       "count        115609.000000               115609.000000       115609.000000   \n",
       "mean             48.766541                  785.808198            2.205373   \n",
       "std              10.034187                  652.418619            1.717771   \n",
       "min               5.000000                    4.000000            1.000000   \n",
       "25%              42.000000                  346.000000            1.000000   \n",
       "50%              52.000000                  600.000000            1.000000   \n",
       "75%              57.000000                  983.000000            3.000000   \n",
       "max              76.000000                 3992.000000           20.000000   \n",
       "\n",
       "       product_weight_g  product_length_cm  product_height_cm  \\\n",
       "count     115608.000000      115608.000000      115608.000000   \n",
       "mean        2113.907697          30.307903          16.638477   \n",
       "std         3781.754895          16.211108          13.473570   \n",
       "min            0.000000           7.000000           2.000000   \n",
       "25%          300.000000          18.000000           8.000000   \n",
       "50%          700.000000          25.000000          13.000000   \n",
       "75%         1800.000000          38.000000          20.000000   \n",
       "max        40425.000000         105.000000         105.000000   \n",
       "\n",
       "       product_width_cm  payment_sequential  payment_installments  \\\n",
       "count     115608.000000       115609.000000         115609.000000   \n",
       "mean          23.113167            1.093747              2.946233   \n",
       "std           11.755083            0.729849              2.781087   \n",
       "min            6.000000            1.000000              0.000000   \n",
       "25%           15.000000            1.000000              1.000000   \n",
       "50%           20.000000            1.000000              2.000000   \n",
       "75%           30.000000            1.000000              4.000000   \n",
       "max          118.000000           29.000000             24.000000   \n",
       "\n",
       "       payment_value  seller_zip_code_prefix   review_score  \n",
       "count  115609.000000           115609.000000  115609.000000  \n",
       "mean      172.387379            24515.713958       4.034409  \n",
       "std       265.873969            27636.640968       1.385584  \n",
       "min         0.000000             1001.000000       1.000000  \n",
       "25%        60.870000             6429.000000       4.000000  \n",
       "50%       108.050000            13660.000000       5.000000  \n",
       "75%       189.480000            28605.000000       5.000000  \n",
       "max     13664.080000            99730.000000       5.000000  "
      ]
     },
     "execution_count": 19,
     "metadata": {},
     "output_type": "execute_result"
    }
   ],
   "source": [
    "# Estatística descritiva básica\n",
    "data.describe()"
   ]
  },
  {
   "cell_type": "markdown",
   "id": "bb086e37",
   "metadata": {},
   "source": [
    "### A média dos fretes é de 20,05, sendo que existem frete grátis e valor máximo de 409,00"
   ]
  },
  {
   "cell_type": "markdown",
   "id": "ab1b4091",
   "metadata": {
    "id": "ab1b4091",
    "papermill": {
     "duration": 0.021251,
     "end_time": "2022-07-20T18:10:29.677596",
     "exception": false,
     "start_time": "2022-07-20T18:10:29.656345",
     "status": "completed"
    },
    "tags": []
   },
   "source": [
    "<h2 style=\"color: #6c5b7b\">Verificando as notas de avaliação </h2>\n",
    "\n"
   ]
  },
  {
   "cell_type": "code",
   "execution_count": 20,
   "id": "79e037fd",
   "metadata": {
    "id": "e92e9379",
    "outputId": "6da05f6b-a4d2-40cf-d1c8-ee062aa1b50c"
   },
   "outputs": [
    {
     "ename": "ValueError",
     "evalue": "\nImage export using the \"kaleido\" engine requires the kaleido package,\nwhich can be installed using pip:\n    $ pip install -U kaleido\n",
     "output_type": "error",
     "traceback": [
      "\u001b[1;31m---------------------------------------------------------------------------\u001b[0m",
      "\u001b[1;31mValueError\u001b[0m                                Traceback (most recent call last)",
      "\u001b[1;32m~\\AppData\\Local\\Temp\\ipykernel_17764\\2065107718.py\u001b[0m in \u001b[0;36m<module>\u001b[1;34m\u001b[0m\n\u001b[0;32m      2\u001b[0m \u001b[1;33m\u001b[0m\u001b[0m\n\u001b[0;32m      3\u001b[0m \u001b[0mfig\u001b[0m \u001b[1;33m=\u001b[0m \u001b[0mpx\u001b[0m\u001b[1;33m.\u001b[0m\u001b[0mhistogram\u001b[0m\u001b[1;33m(\u001b[0m\u001b[0mdata\u001b[0m\u001b[1;33m,\u001b[0m \u001b[0mx\u001b[0m\u001b[1;33m=\u001b[0m\u001b[1;34m\"review_score\"\u001b[0m\u001b[1;33m)\u001b[0m\u001b[1;33m\u001b[0m\u001b[1;33m\u001b[0m\u001b[0m\n\u001b[1;32m----> 4\u001b[1;33m \u001b[0mfig\u001b[0m\u001b[1;33m.\u001b[0m\u001b[0mshow\u001b[0m\u001b[1;33m(\u001b[0m\u001b[1;33m)\u001b[0m\u001b[1;33m\u001b[0m\u001b[1;33m\u001b[0m\u001b[0m\n\u001b[0m",
      "\u001b[1;32m~\\anaconda3\\lib\\site-packages\\plotly\\basedatatypes.py\u001b[0m in \u001b[0;36mshow\u001b[1;34m(self, *args, **kwargs)\u001b[0m\n\u001b[0;32m   3396\u001b[0m         \u001b[1;32mimport\u001b[0m \u001b[0mplotly\u001b[0m\u001b[1;33m.\u001b[0m\u001b[0mio\u001b[0m \u001b[1;32mas\u001b[0m \u001b[0mpio\u001b[0m\u001b[1;33m\u001b[0m\u001b[1;33m\u001b[0m\u001b[0m\n\u001b[0;32m   3397\u001b[0m \u001b[1;33m\u001b[0m\u001b[0m\n\u001b[1;32m-> 3398\u001b[1;33m         \u001b[1;32mreturn\u001b[0m \u001b[0mpio\u001b[0m\u001b[1;33m.\u001b[0m\u001b[0mshow\u001b[0m\u001b[1;33m(\u001b[0m\u001b[0mself\u001b[0m\u001b[1;33m,\u001b[0m \u001b[1;33m*\u001b[0m\u001b[0margs\u001b[0m\u001b[1;33m,\u001b[0m \u001b[1;33m**\u001b[0m\u001b[0mkwargs\u001b[0m\u001b[1;33m)\u001b[0m\u001b[1;33m\u001b[0m\u001b[1;33m\u001b[0m\u001b[0m\n\u001b[0m\u001b[0;32m   3399\u001b[0m \u001b[1;33m\u001b[0m\u001b[0m\n\u001b[0;32m   3400\u001b[0m     \u001b[1;32mdef\u001b[0m \u001b[0mto_json\u001b[0m\u001b[1;33m(\u001b[0m\u001b[0mself\u001b[0m\u001b[1;33m,\u001b[0m \u001b[1;33m*\u001b[0m\u001b[0margs\u001b[0m\u001b[1;33m,\u001b[0m \u001b[1;33m**\u001b[0m\u001b[0mkwargs\u001b[0m\u001b[1;33m)\u001b[0m\u001b[1;33m:\u001b[0m\u001b[1;33m\u001b[0m\u001b[1;33m\u001b[0m\u001b[0m\n",
      "\u001b[1;32m~\\anaconda3\\lib\\site-packages\\plotly\\io\\_renderers.py\u001b[0m in \u001b[0;36mshow\u001b[1;34m(fig, renderer, validate, **kwargs)\u001b[0m\n\u001b[0;32m    386\u001b[0m \u001b[1;33m\u001b[0m\u001b[0m\n\u001b[0;32m    387\u001b[0m     \u001b[1;31m# Mimetype renderers\u001b[0m\u001b[1;33m\u001b[0m\u001b[1;33m\u001b[0m\u001b[0m\n\u001b[1;32m--> 388\u001b[1;33m     \u001b[0mbundle\u001b[0m \u001b[1;33m=\u001b[0m \u001b[0mrenderers\u001b[0m\u001b[1;33m.\u001b[0m\u001b[0m_build_mime_bundle\u001b[0m\u001b[1;33m(\u001b[0m\u001b[0mfig_dict\u001b[0m\u001b[1;33m,\u001b[0m \u001b[0mrenderers_string\u001b[0m\u001b[1;33m=\u001b[0m\u001b[0mrenderer\u001b[0m\u001b[1;33m,\u001b[0m \u001b[1;33m**\u001b[0m\u001b[0mkwargs\u001b[0m\u001b[1;33m)\u001b[0m\u001b[1;33m\u001b[0m\u001b[1;33m\u001b[0m\u001b[0m\n\u001b[0m\u001b[0;32m    389\u001b[0m     \u001b[1;32mif\u001b[0m \u001b[0mbundle\u001b[0m\u001b[1;33m:\u001b[0m\u001b[1;33m\u001b[0m\u001b[1;33m\u001b[0m\u001b[0m\n\u001b[0;32m    390\u001b[0m         \u001b[1;32mif\u001b[0m \u001b[1;32mnot\u001b[0m \u001b[0mipython_display\u001b[0m\u001b[1;33m:\u001b[0m\u001b[1;33m\u001b[0m\u001b[1;33m\u001b[0m\u001b[0m\n",
      "\u001b[1;32m~\\anaconda3\\lib\\site-packages\\plotly\\io\\_renderers.py\u001b[0m in \u001b[0;36m_build_mime_bundle\u001b[1;34m(self, fig_dict, renderers_string, **kwargs)\u001b[0m\n\u001b[0;32m    294\u001b[0m                         \u001b[0msetattr\u001b[0m\u001b[1;33m(\u001b[0m\u001b[0mrenderer\u001b[0m\u001b[1;33m,\u001b[0m \u001b[0mk\u001b[0m\u001b[1;33m,\u001b[0m \u001b[0mv\u001b[0m\u001b[1;33m)\u001b[0m\u001b[1;33m\u001b[0m\u001b[1;33m\u001b[0m\u001b[0m\n\u001b[0;32m    295\u001b[0m \u001b[1;33m\u001b[0m\u001b[0m\n\u001b[1;32m--> 296\u001b[1;33m                 \u001b[0mbundle\u001b[0m\u001b[1;33m.\u001b[0m\u001b[0mupdate\u001b[0m\u001b[1;33m(\u001b[0m\u001b[0mrenderer\u001b[0m\u001b[1;33m.\u001b[0m\u001b[0mto_mimebundle\u001b[0m\u001b[1;33m(\u001b[0m\u001b[0mfig_dict\u001b[0m\u001b[1;33m)\u001b[0m\u001b[1;33m)\u001b[0m\u001b[1;33m\u001b[0m\u001b[1;33m\u001b[0m\u001b[0m\n\u001b[0m\u001b[0;32m    297\u001b[0m \u001b[1;33m\u001b[0m\u001b[0m\n\u001b[0;32m    298\u001b[0m         \u001b[1;32mreturn\u001b[0m \u001b[0mbundle\u001b[0m\u001b[1;33m\u001b[0m\u001b[1;33m\u001b[0m\u001b[0m\n",
      "\u001b[1;32m~\\anaconda3\\lib\\site-packages\\plotly\\io\\_base_renderers.py\u001b[0m in \u001b[0;36mto_mimebundle\u001b[1;34m(self, fig_dict)\u001b[0m\n\u001b[0;32m    125\u001b[0m \u001b[1;33m\u001b[0m\u001b[0m\n\u001b[0;32m    126\u001b[0m     \u001b[1;32mdef\u001b[0m \u001b[0mto_mimebundle\u001b[0m\u001b[1;33m(\u001b[0m\u001b[0mself\u001b[0m\u001b[1;33m,\u001b[0m \u001b[0mfig_dict\u001b[0m\u001b[1;33m)\u001b[0m\u001b[1;33m:\u001b[0m\u001b[1;33m\u001b[0m\u001b[1;33m\u001b[0m\u001b[0m\n\u001b[1;32m--> 127\u001b[1;33m         image_bytes = to_image(\n\u001b[0m\u001b[0;32m    128\u001b[0m             \u001b[0mfig_dict\u001b[0m\u001b[1;33m,\u001b[0m\u001b[1;33m\u001b[0m\u001b[1;33m\u001b[0m\u001b[0m\n\u001b[0;32m    129\u001b[0m             \u001b[0mformat\u001b[0m\u001b[1;33m=\u001b[0m\u001b[0mself\u001b[0m\u001b[1;33m.\u001b[0m\u001b[0mformat\u001b[0m\u001b[1;33m,\u001b[0m\u001b[1;33m\u001b[0m\u001b[1;33m\u001b[0m\u001b[0m\n",
      "\u001b[1;32m~\\anaconda3\\lib\\site-packages\\plotly\\io\\_kaleido.py\u001b[0m in \u001b[0;36mto_image\u001b[1;34m(fig, format, width, height, scale, validate, engine)\u001b[0m\n\u001b[0;32m    131\u001b[0m     \u001b[1;31m# Raise informative error message if Kaleido is not installed\u001b[0m\u001b[1;33m\u001b[0m\u001b[1;33m\u001b[0m\u001b[0m\n\u001b[0;32m    132\u001b[0m     \u001b[1;32mif\u001b[0m \u001b[0mscope\u001b[0m \u001b[1;32mis\u001b[0m \u001b[1;32mNone\u001b[0m\u001b[1;33m:\u001b[0m\u001b[1;33m\u001b[0m\u001b[1;33m\u001b[0m\u001b[0m\n\u001b[1;32m--> 133\u001b[1;33m         raise ValueError(\n\u001b[0m\u001b[0;32m    134\u001b[0m             \"\"\"\n\u001b[0;32m    135\u001b[0m \u001b[0mImage\u001b[0m \u001b[0mexport\u001b[0m \u001b[0musing\u001b[0m \u001b[0mthe\u001b[0m \u001b[1;34m\"kaleido\"\u001b[0m \u001b[0mengine\u001b[0m \u001b[0mrequires\u001b[0m \u001b[0mthe\u001b[0m \u001b[0mkaleido\u001b[0m \u001b[0mpackage\u001b[0m\u001b[1;33m,\u001b[0m\u001b[1;33m\u001b[0m\u001b[1;33m\u001b[0m\u001b[0m\n",
      "\u001b[1;31mValueError\u001b[0m: \nImage export using the \"kaleido\" engine requires the kaleido package,\nwhich can be installed using pip:\n    $ pip install -U kaleido\n"
     ]
    }
   ],
   "source": [
    "#  Verificando as notas de avaliações\n",
    "\n",
    "fig = px.histogram(data, x=\"review_score\")\n",
    "fig.show()"
   ]
  },
  {
   "cell_type": "markdown",
   "id": "68a7c616",
   "metadata": {},
   "source": [
    "Para melhor visualização resolvi aplicar em percentual as notas de avaliações"
   ]
  },
  {
   "cell_type": "code",
   "execution_count": null,
   "id": "ee7e0c32",
   "metadata": {
    "id": "ee7e0c32",
    "outputId": "4e2cd58b-bda6-4de5-8b27-1eddd32832cb"
   },
   "outputs": [],
   "source": [
    "# Aqui apliquei o percentual das notas de avaliações\n",
    "percentage = data[\"review_score\"].value_counts(normalize=True) * 100\n",
    "\n",
    "fig = px.bar(percentage, x=percentage.index, y=percentage.values, text=percentage.values, labels={\"x\": \"Nota\", \"y\": \"Percentagem\"})\n",
    "fig.update_traces(texttemplate='%{text:.2f}%', textposition='outside')\n",
    "fig.show()\n"
   ]
  },
  {
   "cell_type": "markdown",
   "id": "1a451ae1",
   "metadata": {
    "id": "1a451ae1",
    "papermill": {
     "duration": 0.021883,
     "end_time": "2022-07-20T18:10:29.996313",
     "exception": false,
     "start_time": "2022-07-20T18:10:29.974430",
     "status": "completed"
    },
    "tags": []
   },
   "source": [
    "Mais de**75% dos clientes deram uma pontuação igual ou maior que 4**,\n",
    "\n",
    "12,5% deram uma pontuação de 1,\n",
    "\n",
    "e cerca de 12% deram uma pontuação de 3 ou 2,\n",
    "\n",
    "**56% deram nota máxima**"
   ]
  },
  {
   "cell_type": "markdown",
   "id": "4c976aa6",
   "metadata": {
    "id": "4c976aa6",
    "papermill": {
     "duration": 0.021688,
     "end_time": "2022-07-20T18:10:30.040191",
     "exception": false,
     "start_time": "2022-07-20T18:10:30.018503",
     "status": "completed"
    },
    "tags": []
   },
   "source": [
    "<h2 style=\"color: #6c5b7b\">Proporção de clientes gerando a maior parte da receita.</h2>\n",
    "\n",
    "\n",
    "<p>A <strong>Análise de Pareto</strong> é uma técnica importante para identificar e priorizar os elementos mais relevantes em um conjunto de dados, permitindo a concentração de esforços nas áreas mais críticas e relevantes, maximizando resultados e minimizando custos. É uma ferramenta simples e de fácil aplicação.</p>\n",
    "\n",
    "<p>É a famosa regra 20/80, 20% que representam 80% do resultado</p>\n",
    "\n",
    "<p>Podemos utilizar para várias análises! Vamos começar com a proporção de clientes que mais gastam.</p>\n"
   ]
  },
  {
   "cell_type": "markdown",
   "id": "7f16b386",
   "metadata": {},
   "source": [
    "## Aqui verificamos os clientes que mais gastam!"
   ]
  },
  {
   "cell_type": "code",
   "execution_count": null,
   "id": "6f52e190",
   "metadata": {
    "execution": {
     "iopub.execute_input": "2022-07-20T18:10:30.087129Z",
     "iopub.status.busy": "2022-07-20T18:10:30.086421Z",
     "iopub.status.idle": "2022-07-20T18:10:30.352689Z",
     "shell.execute_reply": "2022-07-20T18:10:30.351497Z"
    },
    "id": "6f52e190",
    "papermill": {
     "duration": 0.292517,
     "end_time": "2022-07-20T18:10:30.355259",
     "exception": false,
     "start_time": "2022-07-20T18:10:30.062742",
     "status": "completed"
    },
    "tags": []
   },
   "outputs": [],
   "source": [
    "# Clientes com o maior número cumulativo de pedidos (em pagamentos).\n",
    "top_customers = data.groupby(\"customer_unique_id\")[\"payment_value\"].sum().reset_index().sort_values(\"payment_value\", ascending=False)\n",
    "\n",
    "# Renomeamos a coluna para total_paid(pagamentos total)\n",
    "top_customers.rename(columns={\"payment_value\":\"total_paid\"}, inplace=True)\n",
    "top_customers"
   ]
  },
  {
   "cell_type": "markdown",
   "id": "58871f55",
   "metadata": {},
   "source": [
    "###  Aqui calculamos o percentual de totais de vendas e acumulados das vendas\n",
    "Isso é importante para definir as estratégias de cálculos futuros"
   ]
  },
  {
   "cell_type": "code",
   "execution_count": null,
   "id": "cef62cf5",
   "metadata": {
    "id": "cef62cf5"
   },
   "outputs": [],
   "source": [
    "# calcular as colunas \"% of Total Sales\" e \"Cum % of Total Sales\"\n",
    "top_customers[\"% of Total Sales\"] = (top_customers[\"total_paid\"] / top_customers[\"total_paid\"].sum()) * 100\n",
    "\n",
    "# aqui calculamos o a cumulado das vendas\n",
    "top_customers[\"Cum % of Total Sales\"] = top_customers[\"% of Total Sales\"].cumsum()\n",
    "top_customers"
   ]
  },
  {
   "cell_type": "markdown",
   "id": "82590039",
   "metadata": {},
   "source": [
    "Aqui percebemos que o cliente que mais paga representa **54% com total de vendas acima de 100mil**"
   ]
  },
  {
   "cell_type": "markdown",
   "id": "60224955",
   "metadata": {},
   "source": [
    "## Os 3 clientes top que representam os que mais gastam !"
   ]
  },
  {
   "cell_type": "code",
   "execution_count": null,
   "id": "de2fd209",
   "metadata": {},
   "outputs": [],
   "source": [
    "# Aqui definimos os cliente top3 que mais gastam e representam 95% dos paganmentos\n",
    "Clientes_Top3=top_customers[top_customers[\"total_paid\"]>36000]\n",
    "Clientes_Top3"
   ]
  },
  {
   "cell_type": "code",
   "execution_count": null,
   "id": "416f3af5",
   "metadata": {},
   "outputs": [],
   "source": [
    "\n",
    "\n",
    "# criar um gráfico de linhas do Plotly\n",
    "\n",
    "fig = px.line(top_customers, x=range(1, len(top_customers) + 1), y=\"Cum % of Total Sales\")\n",
    "\n",
    "# definir as etiquetas do eixo x e y e o título do gráfico\n",
    "fig.update_layout(\n",
    "    xaxis_title=\"Número de Clientes\",\n",
    "    yaxis_title=\"Total Vendas Cumulativo %\",\n",
    "    title=\"Contribuição % para as vendas por número de clientes\"\n",
    ")\n",
    "\n",
    "# adicionar uma linha de preenchimento abaixo do gráfico\n",
    "fig.add_shape(\n",
    "    type=\"rect\",\n",
    "    xref=\"x\",\n",
    "    yref=\"paper\",\n",
    "    x0=0,\n",
    "    y0=0,\n",
    "    x1=40000,\n",
    "    y1=1,\n",
    "    fillcolor=\"#797270\",\n",
    "    opacity=0.2,\n",
    "    layer=\"below\"\n",
    ")\n",
    "\n",
    "# atualizar o layout da forma para ajustar a altura do preenchimento\n",
    "fig.update_shapes(dict(xref='x', yref='paper'))\n",
    "\n",
    "# adicionar um texto explicativo na figura\n",
    "fig.add_annotation(\n",
    "    x=55000,\n",
    "    y=75,\n",
    "    text=\"40k clientes (+-42% do total)<br> representam +-80% das vendas\",\n",
    "    font=dict(\n",
    "        size=14,\n",
    "        color=\"black\"\n",
    "    ),\n",
    "    showarrow=False,\n",
    ")\n",
    "\n",
    "# exibir a figura\n",
    "fig.show()"
   ]
  },
  {
   "cell_type": "markdown",
   "id": "418b3613",
   "metadata": {
    "id": "418b3613",
    "papermill": {
     "duration": 0.022558,
     "end_time": "2022-07-20T18:10:33.854078",
     "exception": false,
     "start_time": "2022-07-20T18:10:33.831520",
     "status": "completed"
    },
    "tags": []
   },
   "source": [
    "<h2 style=\"color: #6c5b7b\">Definimos o limiar dos 80% que representa clientes acima de 40k dentro da regra de pareto</h2>\n",
    "\n",
    "\n",
    "Os resultados dessa análise podem gerar diversos insights para a área de marketing! Por exemplo:\n",
    "- Segmentar clientes\n",
    "- Monitorar os clientes que mais gastam\n",
    "- Oferecer promoções tanto para que  mais pagam\n",
    "- Incentivar vendas dos que menos pagam\n",
    "- Criar política de fidelização de clientes\n",
    "- Tentar vender mais produtos\n",
    "- Realizar entregas personalizadas\n",
    "\n",
    "\n",
    "\n",
    "\n"
   ]
  },
  {
   "cell_type": "code",
   "execution_count": null,
   "id": "234cc71d",
   "metadata": {
    "id": "234cc71d",
    "outputId": "aa2e820a-4c35-4335-f1e5-acda24ea7bf8"
   },
   "outputs": [],
   "source": [
    "# renomear a coluna \"payment_value\" para \"total_paid\"\n",
    "top_customers.rename(columns={\"payment_value\" : \"total_paid\"}, inplace=True)\n",
    "\n",
    "# criar um gráfico de barras do Plotly\n",
    "fig = px.bar(top_customers[:10], x=\"total_paid\", y=\"customer_unique_id\", orientation=\"h\")\n",
    "\n",
    "# atualizar as configurações de layout do gráfico\n",
    "fig.update_layout(\n",
    "    title=\"Top 10 Clientes por Valor Total Pago\",\n",
    "    xaxis_title=\"Valor Total Pago\",\n",
    "    yaxis_title=\"ID do Cliente Único\"\n",
    ")\n",
    "\n",
    "# exibir o gráfico\n",
    "fig.show()\n"
   ]
  },
  {
   "cell_type": "markdown",
   "id": "098db46a",
   "metadata": {},
   "source": [
    "Aqui verificamos que entre os **top 10 clientes estão cima de 20k**, isso pode sugerir futuramente com a área de negócio uma segmentação de clientes por faixa de gastos "
   ]
  },
  {
   "cell_type": "markdown",
   "id": "ad704bd4",
   "metadata": {
    "id": "ad704bd4",
    "papermill": {
     "duration": 0.023612,
     "end_time": "2022-07-20T18:10:34.209680",
     "exception": false,
     "start_time": "2022-07-20T18:10:34.186068",
     "status": "completed"
    },
    "tags": []
   },
   "source": [
    "<h2 style=\"color: #6c5b7b\">Principais cidades por número de pedidos por estado.</h2>\n",
    "\n",
    "\n",
    "<p>Vamos verificar quais são as cidades que mais tem números de pedido!</p>\n",
    "\n"
   ]
  },
  {
   "cell_type": "code",
   "execution_count": null,
   "id": "2c4c2a08",
   "metadata": {
    "execution": {
     "iopub.execute_input": "2022-07-20T18:10:34.258837Z",
     "iopub.status.busy": "2022-07-20T18:10:34.258148Z",
     "iopub.status.idle": "2022-07-20T18:10:34.507724Z",
     "shell.execute_reply": "2022-07-20T18:10:34.506924Z"
    },
    "id": "2c4c2a08",
    "outputId": "8c636786-7597-45e4-d67e-d3f5277b22a5",
    "papermill": {
     "duration": 0.27665,
     "end_time": "2022-07-20T18:10:34.509893",
     "exception": false,
     "start_time": "2022-07-20T18:10:34.233243",
     "status": "completed"
    },
    "tags": []
   },
   "outputs": [],
   "source": [
    "# agrupar o dataframe por \"customer_state\" e contar o número de \"order_id\" por estado\n",
    "top_orders_cities = data.groupby(\"customer_state\")[\"order_id\"].count().reset_index().sort_values(\"order_id\", ascending=False)\n",
    "\n",
    "# renomear a coluna \"order_id\" para \"count\"\n",
    "top_orders_cities.rename(columns={\"order_id\":\"count\"}, inplace=True)\n",
    "\n",
    "# criar um gráfico de barras do Plotly\n",
    "fig = px.bar(top_orders_cities[:10], x=\"count\", y=\"customer_state\", orientation=\"h\")\n",
    "\n",
    "# atualizar as configurações de layout do gráfico\n",
    "fig.update_layout(\n",
    "    title=\"TOP 10 Estados por Número de Pedidos\",\n",
    "    xaxis_title=\"Número de Pedidos\",\n",
    "    yaxis_title=\"Estado\"\n",
    ")\n",
    "\n",
    "# exibir o gráfico\n",
    "fig.show()\n"
   ]
  },
  {
   "cell_type": "markdown",
   "id": "ef3a3ed5",
   "metadata": {},
   "source": [
    "**SP** é estado que possui maior número de pedido aproxidamente **48k mil pedidos**\n",
    "\n",
    "**RJ** e **MG** um pouco acima dos **13k mil pedidos**\n",
    "\n",
    "Isso leva a concluir que **SP** é lider de vendas"
   ]
  },
  {
   "cell_type": "markdown",
   "id": "79d198b4",
   "metadata": {
    "id": "79d198b4",
    "papermill": {
     "duration": 0.02434,
     "end_time": "2022-07-20T18:10:34.558348",
     "exception": false,
     "start_time": "2022-07-20T18:10:34.534008",
     "status": "completed"
    },
    "tags": []
   },
   "source": [
    "<h2 style=\"color: #6c5b7b\">Cidades com maior geração de receita.</h2>\n",
    "\n",
    "\n",
    "<p>Agora podemos avaliar não a quantidade de pedidos mas o quanto de GRANA cada cidade traz :D</p>\n",
    "\n"
   ]
  },
  {
   "cell_type": "code",
   "execution_count": null,
   "id": "c731366e",
   "metadata": {},
   "outputs": [],
   "source": [
    "# Agrupamento de cidade por pagamentos somadosb\n",
    "top_ordersbyvalue_cities = data.groupby(\"customer_city\")[\"payment_value\"].sum().reset_index().sort_values(\"payment_value\", ascending=False)\n",
    "top_ordersbyvalue_cities"
   ]
  },
  {
   "cell_type": "markdown",
   "id": "18ca7789",
   "metadata": {},
   "source": [
    "## Calculando os percentuais e acumulados dos pagamentos por cidades"
   ]
  },
  {
   "cell_type": "code",
   "execution_count": null,
   "id": "9e300bf3",
   "metadata": {
    "execution": {
     "iopub.execute_input": "2022-07-20T18:10:34.608277Z",
     "iopub.status.busy": "2022-07-20T18:10:34.607651Z",
     "iopub.status.idle": "2022-07-20T18:10:34.635088Z",
     "shell.execute_reply": "2022-07-20T18:10:34.634221Z"
    },
    "id": "9e300bf3",
    "papermill": {
     "duration": 0.055374,
     "end_time": "2022-07-20T18:10:34.637588",
     "exception": false,
     "start_time": "2022-07-20T18:10:34.582214",
     "status": "completed"
    },
    "tags": []
   },
   "outputs": [],
   "source": [
    "\n",
    "# Aqui calculamos o percentual dos pagamentos por cidades\n",
    "top_ordersbyvalue_cities[\"% of Total Payments\"] = (top_ordersbyvalue_cities[\"payment_value\"] / top_ordersbyvalue_cities[\"payment_value\"].sum()) * 100\n",
    "\n",
    "# Aqui calculamos o acumulado do percentual dos pagamentos por cidade\n",
    "top_ordersbyvalue_cities[\"Cum % of Total Payments\"] = top_ordersbyvalue_cities[\"% of Total Payments\"].cumsum()\n",
    "top_ordersbyvalue_cities"
   ]
  },
  {
   "cell_type": "code",
   "execution_count": null,
   "id": "0b7f9a40",
   "metadata": {
    "execution": {
     "iopub.execute_input": "2022-07-20T18:10:34.688273Z",
     "iopub.status.busy": "2022-07-20T18:10:34.687633Z",
     "iopub.status.idle": "2022-07-20T18:10:34.925737Z",
     "shell.execute_reply": "2022-07-20T18:10:34.924632Z"
    },
    "id": "0b7f9a40",
    "outputId": "32e3ca32-0b9a-4ac5-92d6-e52aa551a5c1",
    "papermill": {
     "duration": 0.266131,
     "end_time": "2022-07-20T18:10:34.928139",
     "exception": false,
     "start_time": "2022-07-20T18:10:34.662008",
     "status": "completed"
    },
    "tags": []
   },
   "outputs": [],
   "source": [
    "# criar um gráfico de barras do Plotly\n",
    "fig = px.bar(top_ordersbyvalue_cities[:10], x=\"% of Total Payments\", y=\"customer_city\", orientation=\"h\")\n",
    "\n",
    "# atualizar as configurações de layout do gráfico\n",
    "fig.update_layout(\n",
    "    title=\"TOP 10 Cidades por Geração de Receita\",\n",
    "    xaxis_title=\"Porcentagem do Total de Pagamentos\",\n",
    "    yaxis_title=\"Cidade do Cliente\"\n",
    ")\n",
    "\n",
    "# exibir o gráfico\n",
    "fig.show()\n"
   ]
  },
  {
   "cell_type": "markdown",
   "id": "13382a5b",
   "metadata": {},
   "source": [
    "Aqui valida que **SP** têm os maior percentual de pagamentos seguida por RJ."
   ]
  },
  {
   "cell_type": "markdown",
   "id": "2399d1af",
   "metadata": {},
   "source": [
    "## Buscando número de cidade que contribuem com 80% das vendas"
   ]
  },
  {
   "cell_type": "code",
   "execution_count": null,
   "id": "9485d883",
   "metadata": {
    "execution": {
     "iopub.execute_input": "2022-07-20T18:10:35.407039Z",
     "iopub.status.busy": "2022-07-20T18:10:35.406026Z",
     "iopub.status.idle": "2022-07-20T18:10:35.415679Z",
     "shell.execute_reply": "2022-07-20T18:10:35.414403Z"
    },
    "id": "9485d883",
    "outputId": "13fe1e3a-d0f0-4f69-a51e-8dec735de220",
    "papermill": {
     "duration": 0.039457,
     "end_time": "2022-07-20T18:10:35.418757",
     "exception": false,
     "start_time": "2022-07-20T18:10:35.379300",
     "status": "completed"
    },
    "tags": []
   },
   "outputs": [],
   "source": [
    "print(\"Número de cidades que contribuem com 80% das vendas totais:\",\n",
    "      len(top_ordersbyvalue_cities[top_ordersbyvalue_cities[\"Cum % of Total Payments\"] <= 80]),\n",
    "      \"ou em in %:\",\n",
    "      (len(top_ordersbyvalue_cities[top_ordersbyvalue_cities[\"Cum % of Total Payments\"] <= 80]) / len(top_ordersbyvalue_cities)) * 100)"
   ]
  },
  {
   "cell_type": "code",
   "execution_count": null,
   "id": "f9d82b6b",
   "metadata": {},
   "outputs": [],
   "source": [
    "# buscando um range que inicia em 1 linha e vai ao total de linhas de todas cidades\n",
    "x=range(1, len(top_ordersbyvalue_cities)+1)\n",
    "x"
   ]
  },
  {
   "cell_type": "code",
   "execution_count": null,
   "id": "63ce96b2",
   "metadata": {
    "id": "63ce96b2",
    "outputId": "bdb21a8d-3ddf-41e6-a172-4fd80e1c91bd"
   },
   "outputs": [],
   "source": [
    "# criar um gráfico de linha do Plotly\n",
    "fig = px.line(top_ordersbyvalue_cities, x=range(1, len(top_ordersbyvalue_cities)+1), y=\"Cum % of Total Payments\")\n",
    "\n",
    "# atualizar as configurações de layout do gráfico\n",
    "fig.update_layout(\n",
    "    title=\"% de Contribuição das Vendas por Número de Cidades\",\n",
    "    xaxis_title=\"Número de Cidades\",\n",
    "    yaxis_title=\"% de Contribuição para as Vendas\"\n",
    ")\n",
    "\n",
    "# preencher a área abaixo da curva\n",
    "fig.add_shape(\n",
    "    type=\"rect\",\n",
    "    xref=\"x\",\n",
    "    yref=\"y\",\n",
    "    x0=0,\n",
    "    y0=0,\n",
    "    x1=358,\n",
    "    y1=top_ordersbyvalue_cities[\"Cum % of Total Payments\"][357],\n",
    "    fillcolor=\"#797270\",\n",
    "    opacity=0.3,\n",
    "    layer=\"below\",\n",
    "    line_width=0\n",
    ")\n",
    "\n",
    "# adicionar um texto ao gráfico\n",
    "fig.add_annotation(\n",
    "    x=1000,\n",
    "    y=70,\n",
    "    text=\"358 cidades (+-8,7% do total) <br>contribuem para +-80% das vendas.\",\n",
    "    font=dict(\n",
    "        size=14,\n",
    "        color=\"black\"\n",
    "    ),\n",
    "    showarrow=False\n",
    ")\n",
    "\n",
    "# exibir o gráfico\n",
    "fig.show()\n"
   ]
  },
  {
   "cell_type": "markdown",
   "id": "09ab7a27",
   "metadata": {},
   "source": [
    "Pela regra de pareto aplicadad no gráfico acima, verificamos que 358 cidades representam 80% das dos pagamentos"
   ]
  },
  {
   "cell_type": "markdown",
   "id": "7ff18152",
   "metadata": {
    "id": "7ff18152",
    "papermill": {
     "duration": 0.024844,
     "end_time": "2022-07-20T18:10:35.470224",
     "exception": false,
     "start_time": "2022-07-20T18:10:35.445380",
     "status": "completed"
    },
    "tags": []
   },
   "source": [
    "<h2 style=\"color: #6c5b7b\">Como os pedidos variam ao longo do tempo?</h2>\n",
    "\n",
    "\n",
    "<p>Como os pedidos são feitos ao longo do dia? De manhã? De tarde? Na madruga? Às segundas, sábados? É importante saber se estamos vendendo mais ou menos, nos horários e dias das semana!</p>\n",
    "\n"
   ]
  },
  {
   "cell_type": "code",
   "execution_count": null,
   "id": "486306e3",
   "metadata": {
    "execution": {
     "iopub.execute_input": "2022-07-20T18:10:35.522410Z",
     "iopub.status.busy": "2022-07-20T18:10:35.522008Z",
     "iopub.status.idle": "2022-07-20T18:10:36.624219Z",
     "shell.execute_reply": "2022-07-20T18:10:36.623127Z"
    },
    "id": "486306e3",
    "papermill": {
     "duration": 1.131682,
     "end_time": "2022-07-20T18:10:36.627043",
     "exception": false,
     "start_time": "2022-07-20T18:10:35.495361",
     "status": "completed"
    },
    "tags": []
   },
   "outputs": [],
   "source": [
    "# Total de pedidos por hora e dia da semana\n",
    "# Mas antes precisamos converter as colunas de datas para datetime\n",
    "datesCols = [\"order_purchase_timestamp\", \"order_approved_at\", \"order_delivered_carrier_date\", \n",
    "            \"order_delivered_customer_date\", \"order_estimated_delivery_date\", \"shipping_limit_date\", \n",
    "            \"review_creation_date\", \"review_answer_timestamp\"]\n",
    "\n",
    "for col in datesCols:\n",
    "    data[col] = pd.to_datetime(data[col])"
   ]
  },
  {
   "cell_type": "code",
   "execution_count": null,
   "id": "7b9d35ba",
   "metadata": {
    "execution": {
     "iopub.execute_input": "2022-07-20T18:10:36.680225Z",
     "iopub.status.busy": "2022-07-20T18:10:36.679384Z",
     "iopub.status.idle": "2022-07-20T18:10:36.758480Z",
     "shell.execute_reply": "2022-07-20T18:10:36.757499Z"
    },
    "id": "7b9d35ba",
    "papermill": {
     "duration": 0.108413,
     "end_time": "2022-07-20T18:10:36.761047",
     "exception": false,
     "start_time": "2022-07-20T18:10:36.652634",
     "status": "completed"
    },
    "tags": []
   },
   "outputs": [],
   "source": [
    "# Orders by hour(ordem tempo de pedido)\n",
    "orders_df[\"order_purchase_timestamp\"] = pd.to_datetime(orders_df[\"order_purchase_timestamp\"])\n",
    "\n",
    "# agrupando a ordem do pedido por tempo de pedido em horas\n",
    "orderbyhour = orders_df.groupby(orders_df[\"order_purchase_timestamp\"].dt.hour)[\"order_id\"].count().reset_index().sort_values(by=\"order_purchase_timestamp\", ascending=False)\n",
    "# renomeando colunas\n",
    "orderbyhour.rename(columns={\"order_id\":\"Total Orders\", \"order_purchase_timestamp\": \"Hour of Day\"}, inplace=True)\n",
    "orderbyhour"
   ]
  },
  {
   "cell_type": "code",
   "execution_count": null,
   "id": "a6d4e700",
   "metadata": {
    "id": "a6d4e700",
    "outputId": "0ab78cbe-55fb-466e-d99f-9a8b9a7dab94"
   },
   "outputs": [],
   "source": [
    "# plotando gráficos \n",
    "fig = px.bar(orderbyhour, x='Hour of Day', y='Total Orders', title='Número de pedidos por hora do dia')\n",
    "fig.update_xaxes(title='Hora do dia')\n",
    "fig.update_yaxes(title='Número total de pedidos')\n",
    "fig.show()\n"
   ]
  },
  {
   "cell_type": "markdown",
   "id": "e459b155",
   "metadata": {
    "id": "e459b155",
    "papermill": {
     "duration": 0.025829,
     "end_time": "2022-07-20T18:10:37.197702",
     "exception": false,
     "start_time": "2022-07-20T18:10:37.171873",
     "status": "completed"
    },
    "tags": []
   },
   "source": [
    "Os pedidos começam a aumentar por volta das 6hs da manhã e atingem o pico às 16hs da tarde.\n",
    "\n",
    "**O período da tarde é bastante significativo em número de pedidos**"
   ]
  },
  {
   "cell_type": "markdown",
   "id": "09c28ad7",
   "metadata": {},
   "source": [
    "## Buscando as ordem de pedidos por dia da semana"
   ]
  },
  {
   "cell_type": "code",
   "execution_count": null,
   "id": "64e71523",
   "metadata": {
    "execution": {
     "iopub.execute_input": "2022-07-20T18:10:37.251797Z",
     "iopub.status.busy": "2022-07-20T18:10:37.251417Z",
     "iopub.status.idle": "2022-07-20T18:10:37.338343Z",
     "shell.execute_reply": "2022-07-20T18:10:37.337239Z"
    },
    "id": "64e71523",
    "papermill": {
     "duration": 0.117561,
     "end_time": "2022-07-20T18:10:37.341361",
     "exception": false,
     "start_time": "2022-07-20T18:10:37.223800",
     "status": "completed"
    },
    "tags": []
   },
   "outputs": [],
   "source": [
    "# Orders by day of the week (ordem de pedido dia  agrupado)\n",
    "orderbydow = data.groupby(data[\"order_purchase_timestamp\"].dt.day_name())[\"order_id\"].count().reset_index()\n",
    "# renomeando coluna\n",
    "orderbydow.rename(columns={\"order_id\":\"Total Orders\", \"order_purchase_timestamp\": \"Weekday Name\"}, inplace=True)\n",
    "# ordenando por total de ordem\n",
    "orderbydow = orderbydow.sort_values(by=\"Total Orders\", ascending=False)\n",
    "orderbydow"
   ]
  },
  {
   "cell_type": "code",
   "execution_count": null,
   "id": "e20e2315",
   "metadata": {
    "id": "e20e2315",
    "outputId": "c588ccc5-7908-451b-8002-d3a24dd2a1e7"
   },
   "outputs": [],
   "source": [
    "fig = px.bar(orderbydow, x='Weekday Name', y='Total Orders', title='Número de pedidos por dia da semana')\n",
    "fig.update_xaxes(title='Dia da semana')\n",
    "fig.update_yaxes(title='Número total de pedidos')\n",
    "fig.show()\n"
   ]
  },
  {
   "cell_type": "markdown",
   "id": "98faa7fb",
   "metadata": {},
   "source": [
    "Os pedidos atingem o pico no início da semana (segunda e terça-feira) e começam a declinar um pouco depois,\n",
    "verifica-se o **final de semana tem uma leve queda nos pedidos** mas com pouca discrepãncia"
   ]
  },
  {
   "cell_type": "markdown",
   "id": "0a15bf54",
   "metadata": {},
   "source": [
    "## Abaixo mesmo gráfico acima ordenado e categorizados!"
   ]
  },
  {
   "cell_type": "code",
   "execution_count": null,
   "id": "d75b5f46",
   "metadata": {
    "id": "d75b5f46",
    "outputId": "9faf271e-1a55-4207-ad61-696273ab2cd7"
   },
   "outputs": [],
   "source": [
    "# Define a ordem dos dias da semana\n",
    "#weekday_order = ['Monday', 'Tuesday', 'Wednesday', 'Thursday', 'Friday', 'Saturday', 'Sunday']\n",
    "\n",
    "# Converte a coluna \"Weekday Name\" em uma categoria ordenada\n",
    "#weekday = pd.Categorical(orderbydow['Weekday Name'], categories=weekday_order, ordered=True)\n",
    "\n",
    "# Cria um novo dataframe ordenado pela coluna de categoria \"weekday\"\n",
    "#orderbydow_ordered = orderbydow.assign(weekday=weekday).sort_values('weekday')\n",
    "\n",
    "# Cria um gráfico de barras com os dias da semana em ordem\n",
    "#fig = px.bar(orderbydow_ordered, x='weekday', y='Total Orders', title='Número de pedidos por dia da semana')\n",
    "#fig.update_xaxes(title='Dia da semana')\n",
    "#fig.update_yaxes(title='Número total de pedidos')\n",
    "#fig.show()\n"
   ]
  },
  {
   "cell_type": "markdown",
   "id": "3dc01d2b",
   "metadata": {
    "id": "3dc01d2b",
    "papermill": {
     "duration": 0.026167,
     "end_time": "2022-07-20T18:10:37.721873",
     "exception": false,
     "start_time": "2022-07-20T18:10:37.695706",
     "status": "completed"
    },
    "tags": []
   },
   "source": [
    "<h2 style=\"color: #6c5b7b\">Como os produtos são avaliados?</h2>\n",
    "\n",
    "\n",
    "<p>De que adianta vender muito, entregar rápido, se as notas dos clientes estiverem baixas? Isso queima o filme de qualquer negócio! Vamos entrar mais a fundo na questão.</p>\n",
    "\n"
   ]
  },
  {
   "cell_type": "markdown",
   "id": "4bae50d2",
   "metadata": {},
   "source": [
    "## Agrupar os produtos comos reviews e agregar as médias e contagens "
   ]
  },
  {
   "cell_type": "code",
   "execution_count": null,
   "id": "29aa91fc",
   "metadata": {},
   "outputs": [],
   "source": [
    "# agrupar produtos por reviews e agregar a média e a contagem\n",
    "reviewsocres = data.groupby(\"product_category_name\")[\"review_score\"].agg([\"mean\", \"count\"]).sort_values(by=\"mean\",ascending=False)\n",
    "reviewsocres"
   ]
  },
  {
   "cell_type": "code",
   "execution_count": null,
   "id": "c9d7b723",
   "metadata": {},
   "outputs": [],
   "source": [
    "# Buscando os 10 produtos com contagens maiores ou igual a 30 \n",
    "bestrated = reviewsocres[reviewsocres[\"count\"]>=30][:10]\n",
    "bestrated"
   ]
  },
  {
   "cell_type": "code",
   "execution_count": null,
   "id": "0abb1a3b",
   "metadata": {
    "id": "0abb1a3b",
    "outputId": "01b7f5f2-4e66-49ab-f4d7-0798bf76e7e5"
   },
   "outputs": [],
   "source": [
    "# plotando os melhores avaliados\n",
    "\n",
    "fig = go.Figure(go.Bar(\n",
    "            x=bestrated['mean'],\n",
    "            y=bestrated.index,\n",
    "            orientation='h'))\n",
    "\n",
    "fig.update_layout(\n",
    "    title='Produtos com as melhores avaliações',\n",
    "    xaxis_title='Avaliação média',\n",
    "    yaxis_title='Categoria do produto',\n",
    "    height=600,\n",
    "    width=800,\n",
    "    margin=dict(l=100, r=20, t=50, b=50),\n",
    ")\n",
    "\n",
    "fig.show()\n"
   ]
  },
  {
   "cell_type": "markdown",
   "id": "4c5950dc",
   "metadata": {},
   "source": [
    "Aqui percebe-se que os produtos bem avaliados estão com notas acima de 4, sendo considerados a nota máxima 5,produtos como:alimentos, livros técnico, construção e etc, produtos diversos se enquadram como bem avaliados,isso leva a concluir que não é tipo de produto que faz ser bem avaliado, e sim, alguma a operação no serviço prestado. "
   ]
  },
  {
   "cell_type": "markdown",
   "id": "8f57470c",
   "metadata": {},
   "source": [
    "## Buscando os piores avaliados"
   ]
  },
  {
   "cell_type": "code",
   "execution_count": null,
   "id": "b351a1ae",
   "metadata": {
    "id": "b351a1ae",
    "outputId": "bed76310-f3da-4e4a-e823-8cf3af60318c"
   },
   "outputs": [],
   "source": [
    "# buscando os piores avaliados\n",
    "reviewsocres = data.groupby(\"product_category_name\")[\"review_score\"].agg([\"mean\", \"count\"]).sort_values(by=\"mean\",ascending=False)\n",
    "worstrated = reviewsocres[reviewsocres[\"count\"]>=30].sort_values(by='mean')[:10]\n",
    "\n",
    "fig = go.Figure(go.Bar(\n",
    "            x=worstrated['mean'],\n",
    "            y=worstrated.index,\n",
    "            orientation='h'))\n",
    "\n",
    "fig.update_layout(\n",
    "    title='Produtos com as piores avaliações',\n",
    "    xaxis_title='Avaliação média',\n",
    "    yaxis_title='Categoria do produto',\n",
    "    height=600,\n",
    "    width=800,\n",
    "    margin=dict(l=100, r=20, t=50, b=50),\n",
    ")\n",
    "\n",
    "fig.show()\n"
   ]
  },
  {
   "cell_type": "markdown",
   "id": "4fe1c5ed",
   "metadata": {},
   "source": [
    "Os piores scores estão acima de 3, produtos de categoria variadas com:móveis, roupa feminna, fraldas e etc, validando a hipótese que não é o tipo de de produto e sim a operação realizada, salientando que os piores score não pode ser considerados com maus avaliados."
   ]
  },
  {
   "cell_type": "markdown",
   "id": "52db11e4",
   "metadata": {},
   "source": [
    "## Aqui é interessante gerar uma variável de pedido entregue e cancelados"
   ]
  },
  {
   "cell_type": "markdown",
   "id": "c9be574d",
   "metadata": {
    "id": "c9be574d",
    "papermill": {
     "duration": 0.026977,
     "end_time": "2022-07-20T18:10:37.940552",
     "exception": false,
     "start_time": "2022-07-20T18:10:37.913575",
     "status": "completed"
    },
    "tags": []
   },
   "source": [
    "<h2 style=\"color: #6c5b7b\">Será que o método de pagamento afeta o status do pedido?</h2>\n",
    "\n",
    "\n",
    "<p>.</p>\n",
    "\n"
   ]
  },
  {
   "cell_type": "code",
   "execution_count": null,
   "id": "019dae96",
   "metadata": {},
   "outputs": [],
   "source": [
    "#  aqui gero uma tabela cruzada entre tipo de pagamento e status do pediddo\n",
    "cashvscancel = pd.crosstab(data[\"payment_type\"], data[\"order_status\"])\n",
    "\n",
    "# gerando informações de pedidos entregue e devolvidos\n",
    "cashvscancel = cashvscancel[[\"canceled\", \"delivered\"]]\n",
    "cashvscancel"
   ]
  },
  {
   "cell_type": "code",
   "execution_count": null,
   "id": "501e8874",
   "metadata": {
    "execution": {
     "iopub.execute_input": "2022-07-20T18:10:37.997181Z",
     "iopub.status.busy": "2022-07-20T18:10:37.995976Z",
     "iopub.status.idle": "2022-07-20T18:10:38.141470Z",
     "shell.execute_reply": "2022-07-20T18:10:38.140232Z"
    },
    "id": "501e8874",
    "outputId": "f346f099-e80c-409b-c059-9c736326e6d8",
    "papermill": {
     "duration": 0.176392,
     "end_time": "2022-07-20T18:10:38.143935",
     "exception": false,
     "start_time": "2022-07-20T18:10:37.967543",
     "status": "completed"
    },
    "tags": []
   },
   "outputs": [],
   "source": [
    "\n",
    "# percentual e pedidos cancelado e entregues\n",
    "cashvscancel[\"% Canceled\"] = (cashvscancel[\"canceled\"] / cashvscancel[\"delivered\"] ) * 100\n",
    "# Criando a txa  de cancelamento rateada\n",
    "cashvscancel[\"Avg Cancelation Rate\"] = (len(data[data[\"order_status\"] == \"canceled\"]) / len(data[data[\"order_status\"] == \"delivered\"])) * 100\n",
    "cashvscancel\n"
   ]
  },
  {
   "cell_type": "markdown",
   "id": "763f418b",
   "metadata": {},
   "source": [
    "Apesar das taxas de cancelamentos ser muito próximas, **existe um aumento nos cancelamento do cartão de créditos**"
   ]
  },
  {
   "cell_type": "markdown",
   "id": "c6d58b73",
   "metadata": {
    "id": "c6d58b73",
    "papermill": {
     "duration": 0.027181,
     "end_time": "2022-07-20T18:10:38.254493",
     "exception": false,
     "start_time": "2022-07-20T18:10:38.227312",
     "status": "completed"
    },
    "tags": []
   },
   "source": [
    "<h2 style=\"color: #6c5b7b\">Existe alguma relação entre o tempo de entrega e as pontuações das avaliações?</h2>\n",
    "\n",
    "\n",
    "<p>.</p>\n",
    "\n"
   ]
  },
  {
   "cell_type": "markdown",
   "id": "0c72a2e0",
   "metadata": {},
   "source": [
    "Aqui subtraimos o tempo de entrega pelo tempo de pedido"
   ]
  },
  {
   "cell_type": "code",
   "execution_count": null,
   "id": "35e13a38",
   "metadata": {},
   "outputs": [],
   "source": [
    "# verificando o tempo d entrega\n",
    "data[\"TimeToDeliveryinHours\"] = (data[\"order_delivered_customer_date\"] - data[\"order_purchase_timestamp\"])\n",
    "data[\"TimeToDeliveryinHours\"] "
   ]
  },
  {
   "cell_type": "markdown",
   "id": "30b29d09",
   "metadata": {},
   "source": [
    "Aqui transformamos em total de segundos aplicando o total_seconds que defini o difrenção da data inicial até a data final"
   ]
  },
  {
   "cell_type": "code",
   "execution_count": null,
   "id": "e9cb989e",
   "metadata": {},
   "outputs": [],
   "source": [
    "from datetime import time, timedelta \n",
    "\n",
    "# definindo o total do tempo em segundos desde a data de inicio até o final\n",
    "data[\"TimeToDeliveryinHours\"] = data[\"TimeToDeliveryinHours\"].apply(lambda x: x.total_seconds())\n",
    "data[\"TimeToDeliveryinHours\"]"
   ]
  },
  {
   "cell_type": "markdown",
   "id": "f8e96772",
   "metadata": {},
   "source": [
    "Aqui dividimos o total em segundo em minutos(3600) divido por 24 horas para definir o total de dias"
   ]
  },
  {
   "cell_type": "code",
   "execution_count": null,
   "id": "c303d240",
   "metadata": {},
   "outputs": [],
   "source": [
    "# Aqui definimos o tempo de entrega em DIAS\n",
    "data[\"TimeToDeliveryinHours\"] = round((data[\"TimeToDeliveryinHours\"] / 3600) / 24,2)\n",
    "data[\"TimeToDeliveryinHours\"]"
   ]
  },
  {
   "cell_type": "code",
   "execution_count": null,
   "id": "8ca8fea1",
   "metadata": {},
   "outputs": [],
   "source": [
    "# renomeando para total de dias de entrega\n",
    "data.rename(columns={\"TimeToDeliveryinHours\" : \"TimeToDeliveryinDays\"}, inplace=True)\n",
    "data"
   ]
  },
  {
   "cell_type": "markdown",
   "id": "2ca0c3a0",
   "metadata": {},
   "source": [
    "# OBS: Logo abaixo encapsulei todo o código na série acima!"
   ]
  },
  {
   "cell_type": "code",
   "execution_count": null,
   "id": "99450b76",
   "metadata": {
    "execution": {
     "iopub.execute_input": "2022-07-20T18:10:38.310896Z",
     "iopub.status.busy": "2022-07-20T18:10:38.310213Z",
     "iopub.status.idle": "2022-07-20T18:10:39.776616Z",
     "shell.execute_reply": "2022-07-20T18:10:39.775411Z"
    },
    "id": "99450b76",
    "papermill": {
     "duration": 1.497666,
     "end_time": "2022-07-20T18:10:39.779018",
     "exception": false,
     "start_time": "2022-07-20T18:10:38.281352",
     "status": "completed"
    },
    "tags": []
   },
   "outputs": [],
   "source": [
    "# Adicionando uma coluna delta que calcula o tempo que levou para o pedido ser entregue\n",
    "#data[\"TimeToDeliveryinHours\"] = (data[\"order_delivered_customer_date\"] - data[\"order_purchase_timestamp\"])\n",
    "#data[\"TimeToDeliveryinHours\"] = data[\"TimeToDeliveryinHours\"].apply(lambda x: x.total_seconds())\n",
    "#data[\"TimeToDeliveryinHours\"] = round((data[\"TimeToDeliveryinHours\"] / 3600) / 24, 2)\n",
    "#data.rename(columns={\"TimeToDeliveryinHours\" : \"TimeToDeliveryinDays\"}, inplace=True)"
   ]
  },
  {
   "cell_type": "code",
   "execution_count": null,
   "id": "57352838",
   "metadata": {
    "execution": {
     "iopub.execute_input": "2022-07-20T18:10:39.835076Z",
     "iopub.status.busy": "2022-07-20T18:10:39.834389Z",
     "iopub.status.idle": "2022-07-20T18:10:39.860111Z",
     "shell.execute_reply": "2022-07-20T18:10:39.859198Z"
    },
    "id": "57352838",
    "outputId": "a50b9d1e-e70d-4735-90a6-4fb915fb27d7",
    "papermill": {
     "duration": 0.056352,
     "end_time": "2022-07-20T18:10:39.862454",
     "exception": false,
     "start_time": "2022-07-20T18:10:39.806102",
     "status": "completed"
    },
    "tags": []
   },
   "outputs": [],
   "source": [
    "# Principais estatísticas do tempo de entrega\n",
    "data[[\"TimeToDeliveryinDays\"]].describe()"
   ]
  },
  {
   "cell_type": "markdown",
   "id": "568b6572",
   "metadata": {
    "id": "568b6572",
    "papermill": {
     "duration": 0.026768,
     "end_time": "2022-07-20T18:10:39.916861",
     "exception": false,
     "start_time": "2022-07-20T18:10:39.890093",
     "status": "completed"
    },
    "tags": []
   },
   "source": [
    "**O tempo médio de entrega é relativamente (12 dias)**, sendo que metadde das entregas são feitas até a mediana de (10 dias).porém observamos um **valor extremo atípico de 208 dias**."
   ]
  },
  {
   "cell_type": "markdown",
   "id": "73536519",
   "metadata": {
    "id": "73536519"
   },
   "source": [
    "O boxplot é um gráfico que mostra como um conjunto de dados está distribuído, destacando informações como a mediana (valor que divide os dados em duas partes iguais), os valores mínimo e máximo e a presença de dados incomuns. Ele é útil para identificar a forma como os dados estão agrupados e se existem pontos que se destacam do restante do conjunto."
   ]
  },
  {
   "cell_type": "code",
   "execution_count": null,
   "id": "6c75f4d0",
   "metadata": {},
   "outputs": [],
   "source": [
    "# passo 1;Define a ordem crescente dos valores da pontuação de avaliação\n",
    "score_order = sorted(data['review_score'].unique())\n",
    "score_order"
   ]
  },
  {
   "cell_type": "code",
   "execution_count": null,
   "id": "4c18bd70",
   "metadata": {},
   "outputs": [],
   "source": [
    "# Passo 2;Converte a coluna \"review_score\" em uma categoria ordenada\n",
    "score = pd.Categorical(data['review_score'], categories=score_order, ordered=True)\n",
    "score"
   ]
  },
  {
   "cell_type": "code",
   "execution_count": null,
   "id": "d28959b6",
   "metadata": {},
   "outputs": [],
   "source": [
    "# Passo3; Cria um novo dataframe ordenado pela coluna de categoria \"score\"\n",
    "data_ordered = data.assign(score=score).sort_values('score')\n",
    "data_ordered"
   ]
  },
  {
   "cell_type": "code",
   "execution_count": null,
   "id": "8d921fd1",
   "metadata": {},
   "outputs": [],
   "source": [
    "# Passo 4;Cria um seletor de pontuação de avaliação em ordem crescente\n",
    "fig = px.box(data_ordered, x='score', y='TimeToDeliveryinDays', color='score',\n",
    "             title='Relação entre a pontuação da avaliação e o tempo de entrega')\n",
    "fig.update_xaxes(title='Pontuação da avaliação')\n",
    "fig.update_yaxes(title='Tempo de entrega (dias)')\n",
    "\n",
    "fig.show()"
   ]
  },
  {
   "cell_type": "markdown",
   "id": "f98d29e2",
   "metadata": {},
   "source": [
    "Verifica-se que existem muitos dados extremos "
   ]
  },
  {
   "cell_type": "markdown",
   "id": "e66a8a40",
   "metadata": {},
   "source": [
    "# OBS: Logo abaixo encapsulei todo o código na série acima do passo1 ao 4!"
   ]
  },
  {
   "cell_type": "code",
   "execution_count": null,
   "id": "652a975d",
   "metadata": {
    "id": "652a975d",
    "outputId": "f844d557-fe54-4cbf-ddfb-f0eee3bbe368"
   },
   "outputs": [],
   "source": [
    "\n",
    "# Define a ordem crescente dos valores da pontuação de avaliação\n",
    "#score_order = sorted(data['review_score'].unique())\n",
    "\n",
    "# Converte a coluna \"review_score\" em uma categoria ordenada\n",
    "#score = pd.Categorical(data['review_score'], categories=score_order, ordered=True)\n",
    "\n",
    "# Cria um novo dataframe ordenado pela coluna de categoria \"score\"\n",
    "#data_ordered = data.assign(score=score).sort_values('score')\n",
    "\n",
    "# Cria um seletor de pontuação de avaliação em ordem crescente\n",
    "#fig = px.box(data_ordered, x='score', y='TimeToDeliveryinDays', color='score',\n",
    "             #title='Relação entre a pontuação da avaliação e o tempo de entrega')\n",
    "\n",
    "#fig.update_xaxes(title='Pontuação da avaliação')\n",
    "#fig.update_yaxes(title='Tempo de entrega (dias)')\n",
    "\n",
    "#fig.show()\n"
   ]
  },
  {
   "cell_type": "markdown",
   "id": "bab1f63e",
   "metadata": {
    "id": "bab1f63e",
    "papermill": {
     "duration": 0.027821,
     "end_time": "2022-07-20T18:10:40.267815",
     "exception": false,
     "start_time": "2022-07-20T18:10:40.239994",
     "status": "completed"
    },
    "tags": []
   },
   "source": [
    "## Podemos ver que temos vários valores atípicos. Estes são pedidos que demoraram muito para serem entregues por algum motivo."
   ]
  },
  {
   "cell_type": "code",
   "execution_count": null,
   "id": "c65a639f",
   "metadata": {},
   "outputs": [],
   "source": [
    "# Define o limite superior dos valores\n",
    "q_high = data[\"TimeToDeliveryinDays\"].quantile(0.95)\n",
    "q_high"
   ]
  },
  {
   "cell_type": "markdown",
   "id": "19d6c5b7",
   "metadata": {},
   "source": [
    "## OBS: AQUI GEREI UM DATAFRAME SEM OS OUTLIERS(TEMPO DE ENTREGA)"
   ]
  },
  {
   "cell_type": "code",
   "execution_count": null,
   "id": "221ae71c",
   "metadata": {},
   "outputs": [],
   "source": [
    "# Cria um novo dataframe sem os valores atípicos\n",
    "data_no_outliers = data[data[\"TimeToDeliveryinDays\"] < q_high]\n",
    "data_no_outliers"
   ]
  },
  {
   "cell_type": "markdown",
   "id": "47834960",
   "metadata": {},
   "source": [
    "## AQUI É DATAFRAME SOMENTE COM OUTLIERS (TEMPO DE ENTREGA)"
   ]
  },
  {
   "cell_type": "code",
   "execution_count": null,
   "id": "7197d628",
   "metadata": {},
   "outputs": [],
   "source": [
    "# Cria um novo dataframe COM os valores atípicos\n",
    "outliers = data[data[\"TimeToDeliveryinDays\"] > q_high]\n",
    "outliers"
   ]
  },
  {
   "cell_type": "code",
   "execution_count": null,
   "id": "a385025f",
   "metadata": {
    "id": "a385025f",
    "outputId": "2299a158-2390-44f1-f0b3-0c35d53170ba"
   },
   "outputs": [],
   "source": [
    "# Define o limite superior dos valores\n",
    "q_high = data[\"TimeToDeliveryinDays\"].quantile(0.95)\n",
    "\n",
    "# Cria um novo dataframe sem os valores atípicos\n",
    "data_no_outliers = data[data[\"TimeToDeliveryinDays\"] < q_high]\n",
    "\n",
    "# Define a ordem crescente dos valores da pontuação de avaliação\n",
    "score_order = sorted(data_no_outliers['review_score'].unique())\n",
    "\n",
    "# Converte a coluna \"review_score\" em uma categoria ordenada\n",
    "score = pd.Categorical(data_no_outliers['review_score'], categories=score_order, ordered=True)\n",
    "\n",
    "# Cria um novo dataframe com a coluna de categoria \"score\"\n",
    "data_score = data_no_outliers.assign(score=score)\n",
    "\n",
    "data_score = data_score.assign(score=score).sort_values('score')\n",
    "\n",
    "# Cria um seletor de pontuação de avaliação em ordem crescente\n",
    "fig = px.box(data_score, x='score', y='TimeToDeliveryinDays', color='score',\n",
    "             title='Relação entre a pontuação da avaliação e o tempo de entrega')\n",
    "\n",
    "fig.update_xaxes(title='Pontuação da avaliação', categoryorder='array', categoryarray=score_order)\n",
    "fig.update_yaxes(title='Tempo de entrega (dias)')\n",
    "\n",
    "fig.show()\n"
   ]
  },
  {
   "cell_type": "markdown",
   "id": "ae7f1681",
   "metadata": {
    "id": "ae7f1681",
    "papermill": {
     "duration": 0.027821,
     "end_time": "2022-07-20T18:10:40.662224",
     "exception": false,
     "start_time": "2022-07-20T18:10:40.634403",
     "status": "completed"
    },
    "tags": []
   },
   "source": [
    "O tempo de entrega é uma variável que tem relação direta com as pontuações, a hipótese confirma que\n",
    "**à medida que o tempo de entrega diminui, as avaliações aumentam**.\n",
    "\n"
   ]
  },
  {
   "cell_type": "markdown",
   "id": "f27c07f3",
   "metadata": {
    "id": "f27c07f3",
    "papermill": {
     "duration": 0.028733,
     "end_time": "2022-07-20T18:10:40.719641",
     "exception": false,
     "start_time": "2022-07-20T18:10:40.690908",
     "status": "completed"
    },
    "tags": []
   },
   "source": [
    "<h2 style=\"color: #6c5b7b\">Quais são as cidades dos vendedores com menor/maior tempo de entrega?</h2>\n",
    "\n",
    "\n",
    "<p>.</p>\n",
    "\n"
   ]
  },
  {
   "cell_type": "markdown",
   "id": "377fcaf8",
   "metadata": {},
   "source": [
    "Aqui pegamos as cidades agrupando pelo tempo de entrega em dias e agregamos valores mìnimos, máximo. contagem e o  desvio , depois dropamos os valores ausentes e ordenamos pela média resetando os índices"
   ]
  },
  {
   "cell_type": "code",
   "execution_count": null,
   "id": "c67a0701",
   "metadata": {},
   "outputs": [],
   "source": [
    "#Vendedores com melhor tempo d entrega\n",
    "sellersdeliverytime = data.groupby(\"seller_city\")[\"TimeToDeliveryinDays\"].agg([\"min\", \"max\", \"mean\", \"std\", \"count\" ]).dropna().sort_values(\"mean\").reset_index()\n",
    "sellersdeliverytime"
   ]
  },
  {
   "cell_type": "markdown",
   "id": "466b93fd",
   "metadata": {},
   "source": [
    "Aqui foi feito uma filtaragem dos vendedores com 30 ou mais pedidos"
   ]
  },
  {
   "cell_type": "code",
   "execution_count": null,
   "id": "b80c1936",
   "metadata": {},
   "outputs": [],
   "source": [
    "# Filtro para vendedores com 30 ou mais pedidos em seu histórico\n",
    "sellersdeliverytime = sellersdeliverytime[sellersdeliverytime[\"count\"]>=30]\n",
    "sellersdeliverytime"
   ]
  },
  {
   "cell_type": "markdown",
   "id": "9f50b3c9",
   "metadata": {},
   "source": [
    "## Quais vendendores mais rápidos e mais lentos?"
   ]
  },
  {
   "cell_type": "code",
   "execution_count": null,
   "id": "3735a92c",
   "metadata": {
    "execution": {
     "iopub.execute_input": "2022-07-20T18:10:40.871437Z",
     "iopub.status.busy": "2022-07-20T18:10:40.870539Z",
     "iopub.status.idle": "2022-07-20T18:10:40.876853Z",
     "shell.execute_reply": "2022-07-20T18:10:40.876027Z"
    },
    "id": "3735a92c",
    "papermill": {
     "duration": 0.038594,
     "end_time": "2022-07-20T18:10:40.879061",
     "exception": false,
     "start_time": "2022-07-20T18:10:40.840467",
     "status": "completed"
    },
    "tags": []
   },
   "outputs": [],
   "source": [
    "# aqui buscamos as 10 entregas mais rápidas\n",
    "fastestdeliverysellers = sellersdeliverytime[:10]\n",
    "# aqui buscamos as 10 piores entregas\n",
    "slowestdeliverysellers = sellersdeliverytime.sort_values(\"mean\", ascending=False)[:10]"
   ]
  },
  {
   "cell_type": "code",
   "execution_count": null,
   "id": "6b24175b",
   "metadata": {
    "execution": {
     "iopub.execute_input": "2022-07-20T18:10:40.940891Z",
     "iopub.status.busy": "2022-07-20T18:10:40.940060Z",
     "iopub.status.idle": "2022-07-20T18:10:40.956392Z",
     "shell.execute_reply": "2022-07-20T18:10:40.955200Z"
    },
    "id": "6b24175b",
    "outputId": "21fef00f-f129-4e22-e496-ee53661ce04a",
    "papermill": {
     "duration": 0.050591,
     "end_time": "2022-07-20T18:10:40.958957",
     "exception": false,
     "start_time": "2022-07-20T18:10:40.908366",
     "status": "completed"
    },
    "tags": []
   },
   "outputs": [],
   "source": [
    "# Vendedores com entrega mais rápida.\n",
    "fastestdeliverysellers"
   ]
  },
  {
   "cell_type": "markdown",
   "id": "70c4a2fd",
   "metadata": {},
   "source": [
    "Aqui percebe-se que o vendedor mais rápido em tempo de entrega Têm **média 5 dias para entregar porém ele têm poucos pedidos**"
   ]
  },
  {
   "cell_type": "code",
   "execution_count": null,
   "id": "a6665f82",
   "metadata": {
    "id": "a6665f82",
    "outputId": "3cedb6f4-471b-43d0-b602-d406552b958d"
   },
   "outputs": [],
   "source": [
    "# Vendedores com entrega mais lenta.\n",
    "slowestdeliverysellers"
   ]
  },
  {
   "cell_type": "markdown",
   "id": "e06c40c6",
   "metadata": {},
   "source": [
    "O vendedor mais lento têm tempo de entrega média de **22 dias e com poucos pedidos, isso leva a concluir que o gargalos se encontra na logística e não quantidades de pedidos**"
   ]
  },
  {
   "cell_type": "markdown",
   "id": "5afa6336",
   "metadata": {},
   "source": [
    "## Quais os scores médios por cidades nos reviews?"
   ]
  },
  {
   "cell_type": "code",
   "execution_count": null,
   "id": "5520c513",
   "metadata": {
    "execution": {
     "iopub.execute_input": "2022-07-20T18:10:41.020528Z",
     "iopub.status.busy": "2022-07-20T18:10:41.019518Z",
     "iopub.status.idle": "2022-07-20T18:10:41.039649Z",
     "shell.execute_reply": "2022-07-20T18:10:41.038655Z"
    },
    "id": "5520c513",
    "papermill": {
     "duration": 0.054297,
     "end_time": "2022-07-20T18:10:41.042243",
     "exception": false,
     "start_time": "2022-07-20T18:10:40.987946",
     "status": "completed"
    },
    "tags": []
   },
   "outputs": [],
   "source": [
    "# Junte a pontuação média de avaliação à tabela acima.\n",
    "avg_review_score_seller = data.groupby(\"seller_city\")[\"review_score\"].mean().dropna().sort_values(ascending=False).reset_index()\n",
    "avg_review_score_seller"
   ]
  },
  {
   "cell_type": "markdown",
   "id": "a10ebec2",
   "metadata": {},
   "source": [
    "## Aqui juntamos a tabela de melhores tempo de entrega com as médias de reviews"
   ]
  },
  {
   "cell_type": "code",
   "execution_count": null,
   "id": "4e3b85ac",
   "metadata": {
    "execution": {
     "iopub.execute_input": "2022-07-20T18:10:41.103713Z",
     "iopub.status.busy": "2022-07-20T18:10:41.102760Z",
     "iopub.status.idle": "2022-07-20T18:10:41.110648Z",
     "shell.execute_reply": "2022-07-20T18:10:41.109765Z"
    },
    "id": "4e3b85ac",
    "papermill": {
     "duration": 0.041347,
     "end_time": "2022-07-20T18:10:41.113372",
     "exception": false,
     "start_time": "2022-07-20T18:10:41.072025",
     "status": "completed"
    },
    "tags": []
   },
   "outputs": [],
   "source": [
    "sellerPerf = sellersdeliverytime.merge(avg_review_score_seller, on=\"seller_city\")\n",
    "sellerPerf"
   ]
  },
  {
   "cell_type": "code",
   "execution_count": null,
   "id": "c694d260",
   "metadata": {
    "id": "c694d260",
    "outputId": "e873797d-b4a6-4a7b-fa0c-01bc022ae08a"
   },
   "outputs": [],
   "source": [
    "# Gráfico de regressão linear entre a média de tempo de entrega e a média da pontuação de avaliação\n",
    "fig = px.scatter(sellerPerf, x='mean', y='review_score', trendline='ols', \n",
    "                 title='Relação entre a média de tempo de entrega e a média da pontuação de avaliação')\n",
    "\n",
    "fig.update_xaxes(title='Média de tempo de entrega (dias)')\n",
    "fig.update_yaxes(title='Média da pontuação de avaliação')\n",
    "\n",
    "fig.show()\n"
   ]
  },
  {
   "cell_type": "markdown",
   "id": "1280206f",
   "metadata": {},
   "source": [
    "Aqui  validamos que **quanto mais rápido a entrega melhor  avaliação**"
   ]
  },
  {
   "cell_type": "markdown",
   "id": "1c455fe2",
   "metadata": {
    "id": "1c455fe2",
    "papermill": {
     "duration": 0.028878,
     "end_time": "2022-07-20T18:10:41.713717",
     "exception": false,
     "start_time": "2022-07-20T18:10:41.684839",
     "status": "completed"
    },
    "tags": []
   },
   "source": [
    "<h2 style=\"color: #6c5b7b\"> Quais os Estados com maior e menor tempo de entrega?</h2>\n",
    "\n",
    "\n",
    "<p>.</p>\n",
    "\n"
   ]
  },
  {
   "cell_type": "code",
   "execution_count": null,
   "id": "ed1a926d",
   "metadata": {
    "id": "ed1a926d",
    "outputId": "612b82b0-11ac-4fd2-b719-f61fb28725d8"
   },
   "outputs": [],
   "source": [
    "# Top 10 estados com o maior tempo médio de entrega\n",
    "highestTTDstates = data.groupby(\"customer_state\")[\"TimeToDeliveryinDays\"].mean().dropna().sort_values(ascending=False).reset_index()\n",
    "# Buscando os top 10\n",
    "highestTTDstates = highestTTDstates[:10]\n",
    "\n",
    "# Gráfico de barras com o tempo médio de entrega por estado\n",
    "fig = px.bar(highestTTDstates, x='TimeToDeliveryinDays', y='customer_state',\n",
    "             orientation='h', title='Top 10 estados com o maior tempo médio de entrega')\n",
    "\n",
    "fig.update_yaxes(title='Estado')\n",
    "fig.update_xaxes(title='Tempo médio de entrega (dias)')\n",
    "\n",
    "fig.show()\n"
   ]
  },
  {
   "cell_type": "markdown",
   "id": "2bd83a15",
   "metadata": {},
   "source": [
    "O estado com maior tempo de entrega é RR,AP e AM, **SALIENTANDO QUE OS 10 MAIORES TEMPO DE ENTREGA POR ESTADOS ESTÃO ACIMA DE 20 DIAS DE ENTREGA**"
   ]
  },
  {
   "cell_type": "code",
   "execution_count": null,
   "id": "72061df7",
   "metadata": {
    "id": "72061df7",
    "outputId": "301932e6-f4ed-43bb-b8df-963d07375841"
   },
   "outputs": [],
   "source": [
    "# Top 10 estados com o menor tempo médio de entrega\n",
    "lowestTTDstates = data.groupby(\"customer_state\")[\"TimeToDeliveryinDays\"].mean().dropna().sort_values(ascending=True).reset_index()\n",
    "lowestTTDstates = lowestTTDstates[:10]\n",
    "\n",
    "# Gráfico de barras com o tempo médio de entrega por estado\n",
    "fig = px.bar(lowestTTDstates, x='TimeToDeliveryinDays', y='customer_state',\n",
    "             orientation='h', title='Top 10 estados com o menor tempo médio de entrega')\n",
    "\n",
    "fig.update_yaxes(title='Estado')\n",
    "fig.update_xaxes(title='Tempo médio de entrega (dias)')\n",
    "\n",
    "fig.show()\n"
   ]
  },
  {
   "cell_type": "markdown",
   "id": "f03f2cf1",
   "metadata": {},
   "source": [
    "Aqui percebe-se que **SP TÊM O MENOR TEMPO DE ENTREGA 9 DIAS, ENQUANTO OS OUTROS ATÉ 16 DIAS!**"
   ]
  },
  {
   "cell_type": "markdown",
   "id": "725b53a7",
   "metadata": {
    "id": "725b53a7",
    "papermill": {
     "duration": 0.029339,
     "end_time": "2022-07-20T18:10:42.385847",
     "exception": false,
     "start_time": "2022-07-20T18:10:42.356508",
     "status": "completed"
    },
    "tags": []
   },
   "source": [
    "\n",
    "<h2 style=\"color: #6c5b7b\">Como o tempo médio de entrega varia ao longo do tempo?</h2>\n",
    "\n",
    "\n",
    "<p>.</p>\n",
    "\n"
   ]
  },
  {
   "cell_type": "markdown",
   "id": "44adcc52",
   "metadata": {},
   "source": [
    "Aqui calculamos a mediana dos valores anuais por tempo de entrega para verificar as variações nas entregas, transformamos em string para plotar um gráfico"
   ]
  },
  {
   "cell_type": "code",
   "execution_count": null,
   "id": "89ae1e15",
   "metadata": {},
   "outputs": [],
   "source": [
    "# Mediana do tempo de entrega por ano\n",
    "deliverytimevstime = data.groupby(data[\"order_purchase_timestamp\"].dt.year)[\"TimeToDeliveryinDays\"].median().dropna()\n",
    "deliverytimevstime"
   ]
  },
  {
   "cell_type": "code",
   "execution_count": null,
   "id": "a107e01d",
   "metadata": {
    "id": "a107e01d",
    "outputId": "1035715b-98f5-4322-f7cd-e00cf701d834"
   },
   "outputs": [],
   "source": [
    "\n",
    "\n",
    "# Converte ano em categoria (e não um número)\n",
    "deliverytimevstime.index = deliverytimevstime.index.astype(str)\n",
    "\n",
    "# Gráfico de barras com a mediana do tempo de entrega por ano\n",
    "fig = px.bar(deliverytimevstime, x=deliverytimevstime.index, y='TimeToDeliveryinDays',\n",
    "             title='Mediana do tempo de entrega por ano')\n",
    "\n",
    "fig.update_xaxes(title='Ano')\n",
    "fig.update_yaxes(title='Mediana de entrega em dias')\n",
    "\n",
    "fig.show()\n"
   ]
  },
  {
   "cell_type": "markdown",
   "id": "79487249",
   "metadata": {},
   "source": [
    "A empresa melhorou sua logística e reduziu considerávelmente o tempo de entrega ao longo dos anos, **em 2016 era acima de 16 dias, em 2017 reduziu para 12 dias , e em 2018  cerca de 9 dias**."
   ]
  },
  {
   "cell_type": "markdown",
   "id": "fd7227ce",
   "metadata": {
    "id": "fd7227ce",
    "papermill": {
     "duration": 0.031485,
     "end_time": "2022-07-20T18:10:42.791250",
     "exception": false,
     "start_time": "2022-07-20T18:10:42.759765",
     "status": "completed"
    },
    "tags": []
   },
   "source": [
    "<h2 style=\"color: #6c5b7b\">Como a pontuação média das avaliações varia ao longo do tempo?</h2>\n",
    "\n",
    "\n",
    "<p>.</p>\n",
    "\n"
   ]
  },
  {
   "cell_type": "code",
   "execution_count": null,
   "id": "636885a0",
   "metadata": {
    "id": "636885a0",
    "outputId": "b59fb301-3c18-432f-ec7d-3d2965ce443b"
   },
   "outputs": [],
   "source": [
    "# Média da pontuação da avaliação por ano\n",
    "scorevstime = data.groupby(data[\"order_purchase_timestamp\"].dt.year)[\"review_score\"].mean().dropna()\n",
    "\n",
    "# Converte o índice do grupo em uma categoria\n",
    "scorevstime.index = scorevstime.index.astype(str)\n",
    "\n",
    "# Gráfico de barras com a média da pontuação da avaliação por ano\n",
    "fig = px.bar(scorevstime, x=scorevstime.index, y='review_score',\n",
    "             title='Média da pontuação da avaliação por ano')\n",
    "\n",
    "fig.update_xaxes(title='Ano')\n",
    "fig.update_yaxes(title='Pontuação média da avaliação')\n",
    "\n",
    "fig.show()\n"
   ]
  },
  {
   "cell_type": "markdown",
   "id": "5bbcc0f8",
   "metadata": {},
   "source": [
    "Em 2017 e 2018, as avaliações melhoraram em relação à 2016, **DEVIDO AOS MELHORES TEMPO DE ENTREGAS**"
   ]
  },
  {
   "cell_type": "markdown",
   "id": "df281a43",
   "metadata": {
    "id": "df281a43",
    "papermill": {
     "duration": 0.030893,
     "end_time": "2022-07-20T18:10:43.186533",
     "exception": false,
     "start_time": "2022-07-20T18:10:43.155640",
     "status": "completed"
    },
    "tags": []
   },
   "source": [
    "<h2 style=\"color: #6c5b7b\">Quais são as categorias de produtos mais vendidas?</h2>\n",
    "\n",
    "\n",
    "<p>.</p>\n"
   ]
  },
  {
   "cell_type": "markdown",
   "id": "2c9fe5e7",
   "metadata": {},
   "source": [
    " AQUI AGRUPAMOS A CATEGORIA DE PRODUTOS, AGREGOU PELA ORDEM DE VALORES ÚNICOS E PELA SOMA DOS PAYMENTS , DEPOIS ORDENAMOS DECRESCENTE E BUSCAMOS AS 10 MAIORES CATEGORIAS"
   ]
  },
  {
   "cell_type": "code",
   "execution_count": null,
   "id": "0386ed22",
   "metadata": {
    "execution": {
     "iopub.execute_input": "2022-07-20T18:10:43.250635Z",
     "iopub.status.busy": "2022-07-20T18:10:43.249813Z",
     "iopub.status.idle": "2022-07-20T18:10:43.324941Z",
     "shell.execute_reply": "2022-07-20T18:10:43.323555Z"
    },
    "id": "0386ed22",
    "papermill": {
     "duration": 0.110211,
     "end_time": "2022-07-20T18:10:43.327732",
     "exception": false,
     "start_time": "2022-07-20T18:10:43.217521",
     "status": "completed"
    },
    "tags": []
   },
   "outputs": [],
   "source": [
    "# AGRUAPANDO CATEGORIA DE PRODUTOS \n",
    "top_categ_by_revenue = data.groupby(\"product_category_name\").agg({'order_id':'nunique','payment_value':'sum'}).sort_values(\"payment_value\", ascending=False)[:10]\n",
    "\n",
    "# RENOMEANDO A COLUNA  ORDERID E PAYMENT\n",
    "\n",
    "top_categ_by_revenue.rename(columns={\"order_id\":\"NumOfOrders\", \"payment_value\":\"Revenues\"}, inplace=True)\n"
   ]
  },
  {
   "cell_type": "code",
   "execution_count": null,
   "id": "188542ed",
   "metadata": {
    "execution": {
     "iopub.execute_input": "2022-07-20T18:10:43.393354Z",
     "iopub.status.busy": "2022-07-20T18:10:43.392886Z",
     "iopub.status.idle": "2022-07-20T18:10:43.405184Z",
     "shell.execute_reply": "2022-07-20T18:10:43.404305Z"
    },
    "id": "188542ed",
    "outputId": "7e114b6e-5eee-4a85-a137-085a8f1d9f46",
    "papermill": {
     "duration": 0.048112,
     "end_time": "2022-07-20T18:10:43.407437",
     "exception": false,
     "start_time": "2022-07-20T18:10:43.359325",
     "status": "completed"
    },
    "tags": []
   },
   "outputs": [],
   "source": [
    "top_categ_by_revenue"
   ]
  },
  {
   "cell_type": "markdown",
   "id": "df37111d",
   "metadata": {},
   "source": [
    "Dos top 10 produtos os 3 mais vendidos, destacam-se:\n",
    "\n",
    "**CAMA_MESA_BANHO**,\n",
    "\n",
    "**BELEZA_SAÚDE**, \n",
    "\n",
    "**INFORMÁTICA_ACESSÓRIOS**"
   ]
  }
 ],
 "metadata": {
  "colab": {
   "provenance": []
  },
  "kernelspec": {
   "display_name": "Python 3 (ipykernel)",
   "language": "python",
   "name": "python3"
  },
  "language_info": {
   "codemirror_mode": {
    "name": "ipython",
    "version": 3
   },
   "file_extension": ".py",
   "mimetype": "text/x-python",
   "name": "python",
   "nbconvert_exporter": "python",
   "pygments_lexer": "ipython3",
   "version": "3.9.13"
  },
  "papermill": {
   "default_parameters": {},
   "duration": 63.315094,
   "end_time": "2022-07-20T18:11:14.711490",
   "environment_variables": {},
   "exception": null,
   "input_path": "__notebook__.ipynb",
   "output_path": "__notebook__.ipynb",
   "parameters": {},
   "start_time": "2022-07-20T18:10:11.396396",
   "version": "2.3.4"
  }
 },
 "nbformat": 4,
 "nbformat_minor": 5
}
